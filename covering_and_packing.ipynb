{
  "nbformat": 4,
  "nbformat_minor": 0,
  "metadata": {
    "colab": {
      "name": "covering_and_packing.ipynb",
      "provenance": [],
      "collapsed_sections": [],
      "authorship_tag": "ABX9TyNp44UcFy+4JhMPBgwtH9Z0",
      "include_colab_link": true
    },
    "kernelspec": {
      "name": "python3",
      "display_name": "Python 3"
    }
  },
  "cells": [
    {
      "cell_type": "markdown",
      "metadata": {
        "id": "view-in-github",
        "colab_type": "text"
      },
      "source": [
        "<a href=\"https://colab.research.google.com/github/SatyaKuppam/QUBOs-and-Ising-models/blob/master/covering_and_packing.ipynb\" target=\"_parent\"><img src=\"https://colab.research.google.com/assets/colab-badge.svg\" alt=\"Open In Colab\"/></a>"
      ]
    },
    {
      "cell_type": "markdown",
      "metadata": {
        "id": "C8PbFoPTl334",
        "colab_type": "text"
      },
      "source": [
        "## Covering and packing problems:\n",
        "\n",
        "* Exact cover"
      ]
    },
    {
      "cell_type": "code",
      "metadata": {
        "id": "rsFs55oAlrct",
        "colab_type": "code",
        "colab": {}
      },
      "source": [
        "!pip install dwave-ocean-sdk"
      ],
      "execution_count": 0,
      "outputs": []
    },
    {
      "cell_type": "code",
      "metadata": {
        "id": "cUbhQpiNmMLO",
        "colab_type": "code",
        "colab": {}
      },
      "source": [
        "import networkx as nx\n",
        "import dwave_networkx as dnx\n",
        "import matplotlib\n",
        "import matplotlib.pyplot as plt\n",
        "import dimod\n",
        "%matplotlib inline\n",
        "\n",
        "from dwave.system.samplers import DWaveSampler\n",
        "from dwave.system.composites import EmbeddingComposite\n",
        "from dwave.cloud import Client\n",
        "from dwave.system.samplers import DWaveSampler\n",
        "from dwave.system.composites import EmbeddingComposite\n",
        "from dwave_qbsolv import QBSolv\n",
        "from collections import defaultdict\n",
        "\n",
        "import networkx as nx\n",
        "import dwave_networkx as dnx\n",
        "import neal"
      ],
      "execution_count": 0,
      "outputs": []
    },
    {
      "cell_type": "markdown",
      "metadata": {
        "id": "ifVPxFGhmciL",
        "colab_type": "text"
      },
      "source": [
        "## Exact Cover\n",
        "\n",
        "*Definition*: An instance $(U, V)$ of a set covering problem consists of a finite set $U$ and a family $H$ of subsets of $U$, such that every element of $U$ belongs to at least one subset in $V$. (From [1]).\n",
        "\n",
        "* The subet $C_i \\in V$ *covers* the elements of $U$. $$V = \\{C_1...C_N\\}$$ \n",
        "$$U = \\bigcup\\limits_{i=1}^{N} C_i$$  \n",
        "\n",
        "* The problem is to find the minimum size subset $C \\subseteq H$ whose members cover all elements of $U$. $$U = \\bigcup\\limits_{C_i \\in C} C_i$$ This is $NP$-hard.\n",
        "\n",
        "* The decision version of this problem is $NP$-complete. In the decision cersion we are asked if a covering exists with size atmost $k$."
      ]
    },
    {
      "cell_type": "markdown",
      "metadata": {
        "id": "aVdrf0WZJiFi",
        "colab_type": "text"
      },
      "source": [
        "### Decision version.\n",
        "\n",
        "The energy functions for the decision version and the $NP$-hard version are derived from *Lucas*[2].\n",
        "\n",
        "First the decision version: $H = H_A  + H_B$. $H_A$ ensures that we have an exact cover and $H_B$ ensure that the cover is atmost $k$ which the user provides.\n",
        "\n",
        "$$H_A = \\sum_{\\alpha \\in U} A(1 - \\sum_{\\alpha \\in V_i} x_i)^2=\\sum_{\\alpha \\in U} A(1 + \\sum_{\\alpha \\in V_i}x_i \\sum_{\\alpha \\in V_j}x_j - 2\\sum_{\\alpha \\in V_i}x_i)$$\n",
        "\n",
        "$$H_B = B (\\sum_{i=1}^{|V|}x_i-k)$$\n",
        "\n",
        "So we atleast need $|V|$ spins to encode this problem."
      ]
    },
    {
      "cell_type": "code",
      "metadata": {
        "id": "UED-hdA3mO-N",
        "colab_type": "code",
        "colab": {}
      },
      "source": [
        "class exact_cover:\n",
        "  def __init__(self, U, V):\n",
        "    self.U = U\n",
        "    self.V = V\n",
        "    self.vartype = dimod.BINARY\n",
        "    self.linear = defaultdict(int)\n",
        "    self.quadratic = defaultdict(int)\n",
        "    self.offset = 0.0\n",
        "    \n",
        "    self.n = len(self.U)\n",
        "    self.B = 1.0\n",
        "    self.A = self.n * self.B + 1.0\n",
        "    print(f\"Setting A:{self.A} and B:{self.B}\")\n",
        "    self.N = len(self.V)\n",
        "\n",
        "    if self.n == 0 or self.N == 0:\n",
        "      raise ValueError(\"U or V cannot be empty.\")\n",
        "\n",
        "    self.solver = None\n",
        "\n",
        "  def _energy_function_h_a(self):\n",
        "    self.offset += self.A\n",
        "\n",
        "    for u in self.U:\n",
        "      for idx_i, v_i in enumerate(self.V):\n",
        "        if u in v_i:\n",
        "          for idx_j, v_j in enumerate(self.V):\n",
        "            if u in v_j:\n",
        "              if idx_i == idx_j:\n",
        "                self.linear[idx_i] += self.A\n",
        "              else:\n",
        "                self.quadratic[(idx_i, idx_j)] += self.A\n",
        "    \n",
        "    for u in self.U:\n",
        "      for idx, v_i in enumerate(self.V):\n",
        "        if u in v_i:\n",
        "          self.linear[idx] -= 2 * self.A\n",
        "\n",
        "  def _energy_function_h_b(self, k=0.0):\n",
        "    self.offset -= self.B * k\n",
        "\n",
        "    for u in U:\n",
        "      for idx, v_i in enumerate(V):\n",
        "        self.linear[idx] += self.B\n",
        "\n",
        "  def decide(self, k, solver=None, **kwargs):\n",
        "    self._energy_function_h_a()\n",
        "    self._energy_function_h_b(k)\n",
        "    return self._solve(solver=solver, **kwargs)\n",
        "\n",
        "  def solve(self, solver=None, **kwargs):\n",
        "    self._energy_function_h_a()\n",
        "    self._energy_function_h_b()\n",
        "    return self._solve(solver=solver, **kwargs)\n",
        "\n",
        "  def _solve(self, solver=None, **kwargs):\n",
        "    if solver == None:\n",
        "      print(\"Setting the solver as QBsolv\")\n",
        "      solver = QBSolv()\n",
        "\n",
        "    print(self.linear)\n",
        "    print(self.quadratic)\n",
        "    print(self.offset)\n",
        "    bqm = dimod.BinaryQuadraticModel(self.linear, self.quadratic, self.offset,\n",
        "                                     self.vartype)\n",
        "    return solver.sample(bqm, **kwargs)\n",
        "  "
      ],
      "execution_count": 0,
      "outputs": []
    },
    {
      "cell_type": "markdown",
      "metadata": {
        "id": "9_drd8ftDcU3",
        "colab_type": "text"
      },
      "source": [
        "Testing $H_A$, all covers should be equally likely."
      ]
    },
    {
      "cell_type": "code",
      "metadata": {
        "id": "tvKqqBYxV7ZS",
        "colab_type": "code",
        "colab": {
          "base_uri": "https://localhost:8080/",
          "height": 280
        },
        "cellView": "code",
        "outputId": "c92f0da7-6246-4685-cd7f-6b5fccbd25a0"
      },
      "source": [
        "U = [1,2,3,4,5,6]\n",
        "V = [[1], [2], [3],[4],[5],[6],[1,2],[3,4],[5,6]]\n",
        "\n",
        "exact_cover_decision_h_a = exact_cover(U, V)\n",
        "exact_cover_decision_h_a._energy_function_h_a()\n",
        "exact_cover_decision_h_a._solve(num_repeats=1000)"
      ],
      "execution_count": 6,
      "outputs": [
        {
          "output_type": "stream",
          "text": [
            "Setting A:7.0 and B:1.0\n",
            "Setting the solver as QBsolv\n",
            "defaultdict(<class 'int'>, {0: -7.0, 6: -14.0, 1: -7.0, 2: -7.0, 7: -14.0, 3: -7.0, 4: -7.0, 8: -14.0, 5: -7.0})\n",
            "defaultdict(<class 'int'>, {(0, 6): 7.0, (6, 0): 7.0, (1, 6): 7.0, (6, 1): 7.0, (2, 7): 7.0, (7, 2): 7.0, (3, 7): 7.0, (7, 3): 7.0, (4, 8): 7.0, (8, 4): 7.0, (5, 8): 7.0, (8, 5): 7.0})\n",
            "7.0\n"
          ],
          "name": "stdout"
        },
        {
          "output_type": "execute_result",
          "data": {
            "text/plain": [
              "SampleSet(rec.array([([0, 0, 1, 1, 1, 1, 1, 0, 0], -35., 132),\n",
              "           ([0, 0, 0, 0, 0, 0, 1, 1, 1], -35., 119),\n",
              "           ([0, 0, 1, 1, 0, 0, 1, 0, 1], -35., 124),\n",
              "           ([0, 0, 0, 0, 1, 1, 1, 1, 0], -35., 125),\n",
              "           ([1, 1, 0, 0, 0, 0, 0, 1, 1], -35., 129),\n",
              "           ([1, 1, 1, 1, 0, 0, 0, 0, 1], -35., 128),\n",
              "           ([1, 1, 0, 0, 1, 1, 0, 1, 0], -35., 110),\n",
              "           ([1, 1, 1, 1, 1, 1, 0, 0, 0], -35., 134)],\n",
              "          dtype=[('sample', 'i1', (9,)), ('energy', '<f8'), ('num_occurrences', '<i8')]), [0, 1, 2, 3, 4, 5, 6, 7, 8], {}, 'BINARY')"
            ]
          },
          "metadata": {
            "tags": []
          },
          "execution_count": 6
        }
      ]
    },
    {
      "cell_type": "markdown",
      "metadata": {
        "id": "zWvnf2gEDhRU",
        "colab_type": "text"
      },
      "source": [
        "Testing $H_B$, no subset should be selected because the minimum energy possible is $-Bk$."
      ]
    },
    {
      "cell_type": "code",
      "metadata": {
        "id": "3s4oKD_T8wSc",
        "colab_type": "code",
        "colab": {
          "base_uri": "https://localhost:8080/",
          "height": 159
        },
        "outputId": "f01fc35f-1ca0-44ee-c29b-6a48d81b8d42"
      },
      "source": [
        "exact_cover_decision_h_b = exact_cover(U, V)\n",
        "exact_cover_decision_h_b._energy_function_h_b(k=3)\n",
        "exact_cover_decision_h_b._solve(num_repeats=1000)"
      ],
      "execution_count": 91,
      "outputs": [
        {
          "output_type": "stream",
          "text": [
            "Setting A:7.0 and B:1.0\n",
            "Setting the solver as QBsolv\n",
            "defaultdict(<class 'int'>, {0: 6.0, 1: 6.0, 2: 6.0, 3: 6.0, 4: 6.0, 5: 6.0, 6: 6.0, 7: 6.0, 8: 6.0})\n",
            "defaultdict(<class 'int'>, {})\n",
            "-3.0\n"
          ],
          "name": "stdout"
        },
        {
          "output_type": "execute_result",
          "data": {
            "text/plain": [
              "SampleSet(rec.array([([0, 0, 0, 0, 0, 0, 0, 0, 0], -3., 1001)],\n",
              "          dtype=[('sample', 'i1', (9,)), ('energy', '<f8'), ('num_occurrences', '<i8')]), [0, 1, 2, 3, 4, 5, 6, 7, 8], {}, 'BINARY')"
            ]
          },
          "metadata": {
            "tags": []
          },
          "execution_count": 91
        }
      ]
    },
    {
      "cell_type": "markdown",
      "metadata": {
        "id": "q0VCxhBdEhHR",
        "colab_type": "text"
      },
      "source": [
        "$C=[[1,2],[3,4],[5,6]]$ should be selected with high probability."
      ]
    },
    {
      "cell_type": "code",
      "metadata": {
        "id": "xunJvpq7x9Qi",
        "colab_type": "code",
        "colab": {
          "base_uri": "https://localhost:8080/",
          "height": 211
        },
        "outputId": "7c055620-3e25-4b48-9ad0-d76d7fe17a60"
      },
      "source": [
        "exact_cover_decision = exact_cover(U, V)\n",
        "exact_cover_decision.decide(k=3, num_repeats=1000)"
      ],
      "execution_count": 7,
      "outputs": [
        {
          "output_type": "stream",
          "text": [
            "Setting A:7.0 and B:1.0\n",
            "Setting the solver as QBsolv\n",
            "defaultdict(<class 'int'>, {0: -1.0, 6: -8.0, 1: -1.0, 2: -1.0, 7: -8.0, 3: -1.0, 4: -1.0, 8: -8.0, 5: -1.0})\n",
            "defaultdict(<class 'int'>, {(0, 6): 7.0, (6, 0): 7.0, (1, 6): 7.0, (6, 1): 7.0, (2, 7): 7.0, (7, 2): 7.0, (3, 7): 7.0, (7, 3): 7.0, (4, 8): 7.0, (8, 4): 7.0, (5, 8): 7.0, (8, 5): 7.0})\n",
            "4.0\n"
          ],
          "name": "stdout"
        },
        {
          "output_type": "execute_result",
          "data": {
            "text/plain": [
              "SampleSet(rec.array([([0, 0, 0, 0, 0, 0, 1, 1, 1], -20., 605),\n",
              "           ([0, 0, 1, 1, 0, 0, 1, 0, 1], -14., 160),\n",
              "           ([0, 0, 0, 0, 1, 1, 1, 1, 0], -14., 103),\n",
              "           ([1, 1, 0, 0, 0, 0, 0, 1, 1], -14., 136)],\n",
              "          dtype=[('sample', 'i1', (9,)), ('energy', '<f8'), ('num_occurrences', '<i8')]), [0, 1, 2, 3, 4, 5, 6, 7, 8], {}, 'BINARY')"
            ]
          },
          "metadata": {
            "tags": []
          },
          "execution_count": 7
        }
      ]
    },
    {
      "cell_type": "markdown",
      "metadata": {
        "id": "LQaQ2iZdErpI",
        "colab_type": "text"
      },
      "source": [
        "No solution exists with $k=2$."
      ]
    },
    {
      "cell_type": "code",
      "metadata": {
        "id": "QicNYGeiEKuy",
        "colab_type": "code",
        "colab": {
          "base_uri": "https://localhost:8080/",
          "height": 211
        },
        "outputId": "94184ac6-d727-49e8-c073-5ad2f3efdd69"
      },
      "source": [
        "exact_cover_decision = exact_cover(U, V)\n",
        "exact_cover_decision.decide(k=2, num_repeats=1000)"
      ],
      "execution_count": 8,
      "outputs": [
        {
          "output_type": "stream",
          "text": [
            "Setting A:7.0 and B:1.0\n",
            "Setting the solver as QBsolv\n",
            "defaultdict(<class 'int'>, {0: -1.0, 6: -8.0, 1: -1.0, 2: -1.0, 7: -8.0, 3: -1.0, 4: -1.0, 8: -8.0, 5: -1.0})\n",
            "defaultdict(<class 'int'>, {(0, 6): 7.0, (6, 0): 7.0, (1, 6): 7.0, (6, 1): 7.0, (2, 7): 7.0, (7, 2): 7.0, (3, 7): 7.0, (7, 3): 7.0, (4, 8): 7.0, (8, 4): 7.0, (5, 8): 7.0, (8, 5): 7.0})\n",
            "5.0\n"
          ],
          "name": "stdout"
        },
        {
          "output_type": "execute_result",
          "data": {
            "text/plain": [
              "SampleSet(rec.array([([0, 0, 0, 0, 0, 0, 1, 1, 1], -19., 604),\n",
              "           ([1, 1, 0, 0, 0, 0, 0, 1, 1], -13., 157),\n",
              "           ([0, 0, 0, 0, 1, 1, 1, 1, 0], -13., 109),\n",
              "           ([0, 0, 1, 1, 0, 0, 1, 0, 1], -13., 134)],\n",
              "          dtype=[('sample', 'i1', (9,)), ('energy', '<f8'), ('num_occurrences', '<i8')]), [0, 1, 2, 3, 4, 5, 6, 7, 8], {}, 'BINARY')"
            ]
          },
          "metadata": {
            "tags": []
          },
          "execution_count": 8
        }
      ]
    },
    {
      "cell_type": "markdown",
      "metadata": {
        "id": "R5Sn2AQwEyxs",
        "colab_type": "text"
      },
      "source": [
        "For $k=4$, we observe that its not the ground state, although solution is possible."
      ]
    },
    {
      "cell_type": "code",
      "metadata": {
        "id": "HsDyp2hKE0sq",
        "colab_type": "code",
        "colab": {
          "base_uri": "https://localhost:8080/",
          "height": 211
        },
        "outputId": "dff37a50-8363-4265-918b-097dafe001cc"
      },
      "source": [
        "exact_cover_decision = exact_cover(U, V)\n",
        "exact_cover_decision.decide(k=4, num_repeats=1000)"
      ],
      "execution_count": 9,
      "outputs": [
        {
          "output_type": "stream",
          "text": [
            "Setting A:7.0 and B:1.0\n",
            "Setting the solver as QBsolv\n",
            "defaultdict(<class 'int'>, {0: -1.0, 6: -8.0, 1: -1.0, 2: -1.0, 7: -8.0, 3: -1.0, 4: -1.0, 8: -8.0, 5: -1.0})\n",
            "defaultdict(<class 'int'>, {(0, 6): 7.0, (6, 0): 7.0, (1, 6): 7.0, (6, 1): 7.0, (2, 7): 7.0, (7, 2): 7.0, (3, 7): 7.0, (7, 3): 7.0, (4, 8): 7.0, (8, 4): 7.0, (5, 8): 7.0, (8, 5): 7.0})\n",
            "3.0\n"
          ],
          "name": "stdout"
        },
        {
          "output_type": "execute_result",
          "data": {
            "text/plain": [
              "SampleSet(rec.array([([0, 0, 0, 0, 0, 0, 1, 1, 1], -21., 591),\n",
              "           ([0, 0, 0, 0, 1, 1, 1, 1, 0], -15., 100),\n",
              "           ([0, 0, 1, 1, 0, 0, 1, 0, 1], -15., 171),\n",
              "           ([1, 1, 0, 0, 0, 0, 0, 1, 1], -15., 142)],\n",
              "          dtype=[('sample', 'i1', (9,)), ('energy', '<f8'), ('num_occurrences', '<i8')]), [0, 1, 2, 3, 4, 5, 6, 7, 8], {}, 'BINARY')"
            ]
          },
          "metadata": {
            "tags": []
          },
          "execution_count": 9
        }
      ]
    },
    {
      "cell_type": "markdown",
      "metadata": {
        "id": "Gjbsum3MFKsD",
        "colab_type": "text"
      },
      "source": [
        "We will find the smallest exact cover. The solution should choose $C=[[1,2],[3,4],[5,6]]$ with high probability."
      ]
    },
    {
      "cell_type": "code",
      "metadata": {
        "id": "i7b9nw0T-z8L",
        "colab_type": "code",
        "colab": {
          "base_uri": "https://localhost:8080/",
          "height": 211
        },
        "outputId": "099f1fa3-ecdc-4d3c-e276-be8ddafc5062"
      },
      "source": [
        "exact_cover_find = exact_cover(U, V)\n",
        "exact_cover_find.solve(num_repeats=1000)"
      ],
      "execution_count": 10,
      "outputs": [
        {
          "output_type": "stream",
          "text": [
            "Setting A:7.0 and B:1.0\n",
            "Setting the solver as QBsolv\n",
            "defaultdict(<class 'int'>, {0: -1.0, 6: -8.0, 1: -1.0, 2: -1.0, 7: -8.0, 3: -1.0, 4: -1.0, 8: -8.0, 5: -1.0})\n",
            "defaultdict(<class 'int'>, {(0, 6): 7.0, (6, 0): 7.0, (1, 6): 7.0, (6, 1): 7.0, (2, 7): 7.0, (7, 2): 7.0, (3, 7): 7.0, (7, 3): 7.0, (4, 8): 7.0, (8, 4): 7.0, (5, 8): 7.0, (8, 5): 7.0})\n",
            "7.0\n"
          ],
          "name": "stdout"
        },
        {
          "output_type": "execute_result",
          "data": {
            "text/plain": [
              "SampleSet(rec.array([([0, 0, 0, 0, 0, 0, 1, 1, 1], -17., 582),\n",
              "           ([1, 1, 0, 0, 0, 0, 0, 1, 1], -11., 128),\n",
              "           ([0, 0, 0, 0, 1, 1, 1, 1, 0], -11.,  96),\n",
              "           ([0, 0, 1, 1, 0, 0, 1, 0, 1], -11., 198)],\n",
              "          dtype=[('sample', 'i1', (9,)), ('energy', '<f8'), ('num_occurrences', '<i8')]), [0, 1, 2, 3, 4, 5, 6, 7, 8], {}, 'BINARY')"
            ]
          },
          "metadata": {
            "tags": []
          },
          "execution_count": 10
        }
      ]
    },
    {
      "cell_type": "markdown",
      "metadata": {
        "id": "KVkEHuLBHnXt",
        "colab_type": "text"
      },
      "source": [
        "### References:\n",
        "\n",
        "[1] Cormen, Thomas H., Charles E. Leiserson, Ronald L. Rivest, and Clifford Stein. *Introduction to algorithms.* MIT press, 2009.\n",
        "\n",
        "[2] Lucas, Andrew. \"Ising formulations of many NP problems.\" *Frontiers in Physics 2* (2014): 5.\n"
      ]
    }
  ]
}