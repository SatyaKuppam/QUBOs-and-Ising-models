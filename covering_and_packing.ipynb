{
  "nbformat": 4,
  "nbformat_minor": 0,
  "metadata": {
    "colab": {
      "name": "covering_and_packing.ipynb",
      "provenance": [],
      "collapsed_sections": [],
      "toc_visible": true,
      "authorship_tag": "ABX9TyMf9u1tj8QuNBuM0ZncvVYl",
      "include_colab_link": true
    },
    "kernelspec": {
      "name": "python3",
      "display_name": "Python 3"
    }
  },
  "cells": [
    {
      "cell_type": "markdown",
      "metadata": {
        "id": "view-in-github",
        "colab_type": "text"
      },
      "source": [
        "<a href=\"https://colab.research.google.com/github/SatyaKuppam/QUBOs-and-Ising-models/blob/master/covering_and_packing.ipynb\" target=\"_parent\"><img src=\"https://colab.research.google.com/assets/colab-badge.svg\" alt=\"Open In Colab\"/></a>"
      ]
    },
    {
      "cell_type": "markdown",
      "metadata": {
        "id": "C8PbFoPTl334",
        "colab_type": "text"
      },
      "source": [
        "## Covering and packing problems:\n",
        "\n",
        "* Exact cover\n",
        "\n",
        "* Set Packing\n",
        "\n",
        "* Vertex Cover\n",
        "\n",
        "* Minimal Maximal Matching"
      ]
    },
    {
      "cell_type": "code",
      "metadata": {
        "id": "rsFs55oAlrct",
        "colab_type": "code",
        "colab": {}
      },
      "source": [
        "!pip install dwave-ocean-sdk"
      ],
      "execution_count": null,
      "outputs": []
    },
    {
      "cell_type": "code",
      "metadata": {
        "id": "cUbhQpiNmMLO",
        "colab_type": "code",
        "colab": {}
      },
      "source": [
        "import networkx as nx\n",
        "import dwave_networkx as dnx\n",
        "import matplotlib\n",
        "import matplotlib.pyplot as plt\n",
        "import dimod\n",
        "%matplotlib inline\n",
        "\n",
        "from dwave.system.samplers import DWaveSampler\n",
        "from dwave.system.composites import EmbeddingComposite\n",
        "from dwave.cloud import Client\n",
        "from dwave.system.samplers import DWaveSampler\n",
        "from dwave.system.composites import EmbeddingComposite\n",
        "from dwave_qbsolv import QBSolv\n",
        "from collections import defaultdict\n",
        "\n",
        "import networkx as nx\n",
        "import dwave_networkx as dnx\n",
        "import neal"
      ],
      "execution_count": 5,
      "outputs": []
    },
    {
      "cell_type": "markdown",
      "metadata": {
        "id": "ifVPxFGhmciL",
        "colab_type": "text"
      },
      "source": [
        "# 1. Exact Cover\n",
        "\n",
        "*Definition*: An instance $(U, V)$ of a set covering problem consists of a finite set $U$ and a family $H$ of subsets of $U$, such that every element of $U$ belongs to at least one subset in $V$. (From [1]).\n",
        "\n",
        "* The subet $C_i \\in V$ *covers* the elements of $U$. $$V = \\{C_1...C_N\\}$$ \n",
        "$$U = \\bigcup\\limits_{i=1}^{N} C_i$$  \n",
        "\n",
        "* The problem is to find the minimum size subset $C \\subseteq H$ whose members cover all elements of $U$. $$U = \\bigcup\\limits_{C_i \\in C} C_i$$ This is $NP$-hard.\n",
        "\n",
        "* The decision version of this problem is $NP$-complete. In the decision cersion we are asked if a covering exists with size atmost $k$."
      ]
    },
    {
      "cell_type": "markdown",
      "metadata": {
        "id": "aVdrf0WZJiFi",
        "colab_type": "text"
      },
      "source": [
        "## 1.1 Decision version\n",
        "\n",
        "The energy functions for the decision version and the $NP$-hard version are derived from *Lucas*[2].\n",
        "\n",
        "First the decision version: $H = H_A  + H_B$. $H_A$ ensures that we have an exact cover and $H_B$ ensure that the cover is atmost $k$ which the user provides.\n",
        "\n",
        "$$H_A = \\sum_{\\alpha \\in U} A(1 - \\sum_{\\alpha \\in V_i} x_i)^2=\\sum_{\\alpha \\in U} A(1 + \\sum_{\\alpha \\in V_i}x_i \\sum_{\\alpha \\in V_j}x_j - 2\\sum_{\\alpha \\in V_i}x_i)$$\n",
        "\n",
        "$$H_B = B (\\sum_{i=1}^{|V|}x_i-k)$$\n",
        "\n",
        "So we atleast need $|V|$ spins to encode this problem."
      ]
    },
    {
      "cell_type": "code",
      "metadata": {
        "id": "UED-hdA3mO-N",
        "colab_type": "code",
        "colab": {}
      },
      "source": [
        "class exact_cover:\n",
        "  def __init__(self, U, V):\n",
        "    self.U = U\n",
        "    self.V = V\n",
        "    self.vartype = dimod.BINARY\n",
        "    self.linear = defaultdict(int)\n",
        "    self.quadratic = defaultdict(int)\n",
        "    self.offset = 0.0\n",
        "    \n",
        "    self.n = len(self.U)\n",
        "    self.B = 1.0\n",
        "    self.A = self.n * self.B + 1.0\n",
        "    print(f\"Setting A:{self.A} and B:{self.B}\")\n",
        "    self.N = len(self.V)\n",
        "\n",
        "    if self.n == 0 or self.N == 0:\n",
        "      raise ValueError(\"U or V cannot be empty.\")\n",
        "\n",
        "    self.solver = None\n",
        "\n",
        "  def _energy_function_h_a(self):\n",
        "    self.offset += self.A\n",
        "\n",
        "    for u in self.U:\n",
        "      for idx_i, v_i in enumerate(self.V):\n",
        "        if u in v_i:\n",
        "          for idx_j, v_j in enumerate(self.V):\n",
        "            if u in v_j:\n",
        "              if idx_i == idx_j:\n",
        "                self.linear[idx_i] += self.A\n",
        "              else:\n",
        "                self.quadratic[(idx_i, idx_j)] += self.A\n",
        "    \n",
        "    for u in self.U:\n",
        "      for idx, v_i in enumerate(self.V):\n",
        "        if u in v_i:\n",
        "          self.linear[idx] -= 2 * self.A\n",
        "\n",
        "  def _energy_function_h_b(self, k=0.0):\n",
        "    self.offset -= self.B * k\n",
        "\n",
        "    for u in U:\n",
        "      for idx, v_i in enumerate(V):\n",
        "        self.linear[idx] += self.B\n",
        "\n",
        "  def decide(self, k, solver=None, **kwargs):\n",
        "    self._energy_function_h_a()\n",
        "    self._energy_function_h_b(k)\n",
        "    return self._solve(solver=solver, **kwargs)\n",
        "\n",
        "  def solve(self, solver=None, **kwargs):\n",
        "    self._energy_function_h_a()\n",
        "    self._energy_function_h_b()\n",
        "    return self._solve(solver=solver, **kwargs)\n",
        "\n",
        "  def _solve(self, solver=None, **kwargs):\n",
        "    if solver == None:\n",
        "      print(\"Setting the solver as QBsolv\")\n",
        "      solver = QBSolv()\n",
        "\n",
        "    print(self.linear)\n",
        "    print(self.quadratic)\n",
        "    print(self.offset)\n",
        "    bqm = dimod.BinaryQuadraticModel(self.linear, self.quadratic, self.offset,\n",
        "                                     self.vartype)\n",
        "    return solver.sample(bqm, **kwargs)\n",
        "  "
      ],
      "execution_count": null,
      "outputs": []
    },
    {
      "cell_type": "markdown",
      "metadata": {
        "id": "9_drd8ftDcU3",
        "colab_type": "text"
      },
      "source": [
        "## 1.2 Testing $H_A$\n",
        "All covers should be equally likely."
      ]
    },
    {
      "cell_type": "code",
      "metadata": {
        "id": "tvKqqBYxV7ZS",
        "colab_type": "code",
        "cellView": "code",
        "colab": {
          "base_uri": "https://localhost:8080/",
          "height": 280
        },
        "outputId": "c92f0da7-6246-4685-cd7f-6b5fccbd25a0"
      },
      "source": [
        "U = [1,2,3,4,5,6]\n",
        "V = [[1], [2], [3],[4],[5],[6],[1,2],[3,4],[5,6]]\n",
        "\n",
        "exact_cover_decision_h_a = exact_cover(U, V)\n",
        "exact_cover_decision_h_a._energy_function_h_a()\n",
        "exact_cover_decision_h_a._solve(num_repeats=1000)"
      ],
      "execution_count": null,
      "outputs": [
        {
          "output_type": "stream",
          "text": [
            "Setting A:7.0 and B:1.0\n",
            "Setting the solver as QBsolv\n",
            "defaultdict(<class 'int'>, {0: -7.0, 6: -14.0, 1: -7.0, 2: -7.0, 7: -14.0, 3: -7.0, 4: -7.0, 8: -14.0, 5: -7.0})\n",
            "defaultdict(<class 'int'>, {(0, 6): 7.0, (6, 0): 7.0, (1, 6): 7.0, (6, 1): 7.0, (2, 7): 7.0, (7, 2): 7.0, (3, 7): 7.0, (7, 3): 7.0, (4, 8): 7.0, (8, 4): 7.0, (5, 8): 7.0, (8, 5): 7.0})\n",
            "7.0\n"
          ],
          "name": "stdout"
        },
        {
          "output_type": "execute_result",
          "data": {
            "text/plain": [
              "SampleSet(rec.array([([0, 0, 1, 1, 1, 1, 1, 0, 0], -35., 132),\n",
              "           ([0, 0, 0, 0, 0, 0, 1, 1, 1], -35., 119),\n",
              "           ([0, 0, 1, 1, 0, 0, 1, 0, 1], -35., 124),\n",
              "           ([0, 0, 0, 0, 1, 1, 1, 1, 0], -35., 125),\n",
              "           ([1, 1, 0, 0, 0, 0, 0, 1, 1], -35., 129),\n",
              "           ([1, 1, 1, 1, 0, 0, 0, 0, 1], -35., 128),\n",
              "           ([1, 1, 0, 0, 1, 1, 0, 1, 0], -35., 110),\n",
              "           ([1, 1, 1, 1, 1, 1, 0, 0, 0], -35., 134)],\n",
              "          dtype=[('sample', 'i1', (9,)), ('energy', '<f8'), ('num_occurrences', '<i8')]), [0, 1, 2, 3, 4, 5, 6, 7, 8], {}, 'BINARY')"
            ]
          },
          "metadata": {
            "tags": []
          },
          "execution_count": 6
        }
      ]
    },
    {
      "cell_type": "markdown",
      "metadata": {
        "id": "zWvnf2gEDhRU",
        "colab_type": "text"
      },
      "source": [
        "## 1.3 Testing $H_B$\n",
        "No subset should be selected because the minimum energy possible is $-Bk$."
      ]
    },
    {
      "cell_type": "code",
      "metadata": {
        "id": "3s4oKD_T8wSc",
        "colab_type": "code",
        "colab": {
          "base_uri": "https://localhost:8080/",
          "height": 159
        },
        "outputId": "f01fc35f-1ca0-44ee-c29b-6a48d81b8d42"
      },
      "source": [
        "exact_cover_decision_h_b = exact_cover(U, V)\n",
        "exact_cover_decision_h_b._energy_function_h_b(k=3)\n",
        "exact_cover_decision_h_b._solve(num_repeats=1000)"
      ],
      "execution_count": null,
      "outputs": [
        {
          "output_type": "stream",
          "text": [
            "Setting A:7.0 and B:1.0\n",
            "Setting the solver as QBsolv\n",
            "defaultdict(<class 'int'>, {0: 6.0, 1: 6.0, 2: 6.0, 3: 6.0, 4: 6.0, 5: 6.0, 6: 6.0, 7: 6.0, 8: 6.0})\n",
            "defaultdict(<class 'int'>, {})\n",
            "-3.0\n"
          ],
          "name": "stdout"
        },
        {
          "output_type": "execute_result",
          "data": {
            "text/plain": [
              "SampleSet(rec.array([([0, 0, 0, 0, 0, 0, 0, 0, 0], -3., 1001)],\n",
              "          dtype=[('sample', 'i1', (9,)), ('energy', '<f8'), ('num_occurrences', '<i8')]), [0, 1, 2, 3, 4, 5, 6, 7, 8], {}, 'BINARY')"
            ]
          },
          "metadata": {
            "tags": []
          },
          "execution_count": 91
        }
      ]
    },
    {
      "cell_type": "markdown",
      "metadata": {
        "id": "q0VCxhBdEhHR",
        "colab_type": "text"
      },
      "source": [
        "## 1.4 Experimentation:\n",
        " $C=[[1,2],[3,4],[5,6]]$ should be selected with high probability."
      ]
    },
    {
      "cell_type": "code",
      "metadata": {
        "id": "xunJvpq7x9Qi",
        "colab_type": "code",
        "colab": {
          "base_uri": "https://localhost:8080/",
          "height": 211
        },
        "outputId": "7c055620-3e25-4b48-9ad0-d76d7fe17a60"
      },
      "source": [
        "exact_cover_decision = exact_cover(U, V)\n",
        "exact_cover_decision.decide(k=3, num_repeats=1000)"
      ],
      "execution_count": null,
      "outputs": [
        {
          "output_type": "stream",
          "text": [
            "Setting A:7.0 and B:1.0\n",
            "Setting the solver as QBsolv\n",
            "defaultdict(<class 'int'>, {0: -1.0, 6: -8.0, 1: -1.0, 2: -1.0, 7: -8.0, 3: -1.0, 4: -1.0, 8: -8.0, 5: -1.0})\n",
            "defaultdict(<class 'int'>, {(0, 6): 7.0, (6, 0): 7.0, (1, 6): 7.0, (6, 1): 7.0, (2, 7): 7.0, (7, 2): 7.0, (3, 7): 7.0, (7, 3): 7.0, (4, 8): 7.0, (8, 4): 7.0, (5, 8): 7.0, (8, 5): 7.0})\n",
            "4.0\n"
          ],
          "name": "stdout"
        },
        {
          "output_type": "execute_result",
          "data": {
            "text/plain": [
              "SampleSet(rec.array([([0, 0, 0, 0, 0, 0, 1, 1, 1], -20., 605),\n",
              "           ([0, 0, 1, 1, 0, 0, 1, 0, 1], -14., 160),\n",
              "           ([0, 0, 0, 0, 1, 1, 1, 1, 0], -14., 103),\n",
              "           ([1, 1, 0, 0, 0, 0, 0, 1, 1], -14., 136)],\n",
              "          dtype=[('sample', 'i1', (9,)), ('energy', '<f8'), ('num_occurrences', '<i8')]), [0, 1, 2, 3, 4, 5, 6, 7, 8], {}, 'BINARY')"
            ]
          },
          "metadata": {
            "tags": []
          },
          "execution_count": 7
        }
      ]
    },
    {
      "cell_type": "markdown",
      "metadata": {
        "id": "LQaQ2iZdErpI",
        "colab_type": "text"
      },
      "source": [
        "No solution exists with $k=2$."
      ]
    },
    {
      "cell_type": "code",
      "metadata": {
        "id": "QicNYGeiEKuy",
        "colab_type": "code",
        "colab": {
          "base_uri": "https://localhost:8080/",
          "height": 211
        },
        "outputId": "94184ac6-d727-49e8-c073-5ad2f3efdd69"
      },
      "source": [
        "exact_cover_decision = exact_cover(U, V)\n",
        "exact_cover_decision.decide(k=2, num_repeats=1000)"
      ],
      "execution_count": null,
      "outputs": [
        {
          "output_type": "stream",
          "text": [
            "Setting A:7.0 and B:1.0\n",
            "Setting the solver as QBsolv\n",
            "defaultdict(<class 'int'>, {0: -1.0, 6: -8.0, 1: -1.0, 2: -1.0, 7: -8.0, 3: -1.0, 4: -1.0, 8: -8.0, 5: -1.0})\n",
            "defaultdict(<class 'int'>, {(0, 6): 7.0, (6, 0): 7.0, (1, 6): 7.0, (6, 1): 7.0, (2, 7): 7.0, (7, 2): 7.0, (3, 7): 7.0, (7, 3): 7.0, (4, 8): 7.0, (8, 4): 7.0, (5, 8): 7.0, (8, 5): 7.0})\n",
            "5.0\n"
          ],
          "name": "stdout"
        },
        {
          "output_type": "execute_result",
          "data": {
            "text/plain": [
              "SampleSet(rec.array([([0, 0, 0, 0, 0, 0, 1, 1, 1], -19., 604),\n",
              "           ([1, 1, 0, 0, 0, 0, 0, 1, 1], -13., 157),\n",
              "           ([0, 0, 0, 0, 1, 1, 1, 1, 0], -13., 109),\n",
              "           ([0, 0, 1, 1, 0, 0, 1, 0, 1], -13., 134)],\n",
              "          dtype=[('sample', 'i1', (9,)), ('energy', '<f8'), ('num_occurrences', '<i8')]), [0, 1, 2, 3, 4, 5, 6, 7, 8], {}, 'BINARY')"
            ]
          },
          "metadata": {
            "tags": []
          },
          "execution_count": 8
        }
      ]
    },
    {
      "cell_type": "markdown",
      "metadata": {
        "id": "R5Sn2AQwEyxs",
        "colab_type": "text"
      },
      "source": [
        "For $k=4$, we observe that its not the ground state, although solution is possible."
      ]
    },
    {
      "cell_type": "code",
      "metadata": {
        "id": "HsDyp2hKE0sq",
        "colab_type": "code",
        "colab": {
          "base_uri": "https://localhost:8080/",
          "height": 211
        },
        "outputId": "dff37a50-8363-4265-918b-097dafe001cc"
      },
      "source": [
        "exact_cover_decision = exact_cover(U, V)\n",
        "exact_cover_decision.decide(k=4, num_repeats=1000)"
      ],
      "execution_count": null,
      "outputs": [
        {
          "output_type": "stream",
          "text": [
            "Setting A:7.0 and B:1.0\n",
            "Setting the solver as QBsolv\n",
            "defaultdict(<class 'int'>, {0: -1.0, 6: -8.0, 1: -1.0, 2: -1.0, 7: -8.0, 3: -1.0, 4: -1.0, 8: -8.0, 5: -1.0})\n",
            "defaultdict(<class 'int'>, {(0, 6): 7.0, (6, 0): 7.0, (1, 6): 7.0, (6, 1): 7.0, (2, 7): 7.0, (7, 2): 7.0, (3, 7): 7.0, (7, 3): 7.0, (4, 8): 7.0, (8, 4): 7.0, (5, 8): 7.0, (8, 5): 7.0})\n",
            "3.0\n"
          ],
          "name": "stdout"
        },
        {
          "output_type": "execute_result",
          "data": {
            "text/plain": [
              "SampleSet(rec.array([([0, 0, 0, 0, 0, 0, 1, 1, 1], -21., 591),\n",
              "           ([0, 0, 0, 0, 1, 1, 1, 1, 0], -15., 100),\n",
              "           ([0, 0, 1, 1, 0, 0, 1, 0, 1], -15., 171),\n",
              "           ([1, 1, 0, 0, 0, 0, 0, 1, 1], -15., 142)],\n",
              "          dtype=[('sample', 'i1', (9,)), ('energy', '<f8'), ('num_occurrences', '<i8')]), [0, 1, 2, 3, 4, 5, 6, 7, 8], {}, 'BINARY')"
            ]
          },
          "metadata": {
            "tags": []
          },
          "execution_count": 9
        }
      ]
    },
    {
      "cell_type": "markdown",
      "metadata": {
        "id": "Gjbsum3MFKsD",
        "colab_type": "text"
      },
      "source": [
        "We will find the smallest exact cover. The solution should choose $C=[[1,2],[3,4],[5,6]]$ with high probability."
      ]
    },
    {
      "cell_type": "code",
      "metadata": {
        "id": "i7b9nw0T-z8L",
        "colab_type": "code",
        "colab": {
          "base_uri": "https://localhost:8080/",
          "height": 211
        },
        "outputId": "099f1fa3-ecdc-4d3c-e276-be8ddafc5062"
      },
      "source": [
        "exact_cover_find = exact_cover(U, V)\n",
        "exact_cover_find.solve(num_repeats=1000)"
      ],
      "execution_count": null,
      "outputs": [
        {
          "output_type": "stream",
          "text": [
            "Setting A:7.0 and B:1.0\n",
            "Setting the solver as QBsolv\n",
            "defaultdict(<class 'int'>, {0: -1.0, 6: -8.0, 1: -1.0, 2: -1.0, 7: -8.0, 3: -1.0, 4: -1.0, 8: -8.0, 5: -1.0})\n",
            "defaultdict(<class 'int'>, {(0, 6): 7.0, (6, 0): 7.0, (1, 6): 7.0, (6, 1): 7.0, (2, 7): 7.0, (7, 2): 7.0, (3, 7): 7.0, (7, 3): 7.0, (4, 8): 7.0, (8, 4): 7.0, (5, 8): 7.0, (8, 5): 7.0})\n",
            "7.0\n"
          ],
          "name": "stdout"
        },
        {
          "output_type": "execute_result",
          "data": {
            "text/plain": [
              "SampleSet(rec.array([([0, 0, 0, 0, 0, 0, 1, 1, 1], -17., 582),\n",
              "           ([1, 1, 0, 0, 0, 0, 0, 1, 1], -11., 128),\n",
              "           ([0, 0, 0, 0, 1, 1, 1, 1, 0], -11.,  96),\n",
              "           ([0, 0, 1, 1, 0, 0, 1, 0, 1], -11., 198)],\n",
              "          dtype=[('sample', 'i1', (9,)), ('energy', '<f8'), ('num_occurrences', '<i8')]), [0, 1, 2, 3, 4, 5, 6, 7, 8], {}, 'BINARY')"
            ]
          },
          "metadata": {
            "tags": []
          },
          "execution_count": 10
        }
      ]
    },
    {
      "cell_type": "markdown",
      "metadata": {
        "id": "eezdSFa0Nbpd",
        "colab_type": "text"
      },
      "source": [
        "# 2. Set Packing"
      ]
    },
    {
      "cell_type": "markdown",
      "metadata": {
        "id": "jc3ErNpQNLyH",
        "colab_type": "text"
      },
      "source": [
        "## 2.1 Problem Definition:\n",
        "\n",
        "We have a set of elements $U = \\{1..n\\}$ and a set $H=\\{V_1, V_2,..V_N\\}$ such that $V_i = \\{x|x\\in U\\}$. We need to find $C \\subseteq H$ which is the largest set of subsets $V_i$ such that they are all disjoint. \n",
        "\n",
        "NOTE: $C$ does not have to form a cover.\n",
        "\n",
        "\n",
        "\n",
        "### Equivalence to a graph problem\n",
        "This is equivalent to the maximal inpendent set (MIS) problem, if we have a graph $G=(V,E)$ such that, for every $V_i$ in $H$ we have a vertex in $G$ and an edge exists between the vertices in the graph iff $V_i\\cap V_j \\neq \\emptyset$. Then what is the maximal number of vertices that can be coloured such that no two coloured vertices are connected by an edge."
      ]
    },
    {
      "cell_type": "markdown",
      "metadata": {
        "id": "j9-d9LBFl5kl",
        "colab_type": "text"
      },
      "source": [
        "\n",
        "### 2.1.1 Energy Function:\n",
        "\n",
        "* $H = H_A + H_B$\n",
        "* $H_A$ penalizes $V_i$'s that are not disjoint.\n",
        "* $H_B$ ensures that $|C|$ is maximum.\n",
        "* $H_A = A\\sum\\limits_{i,j: V_i \\cap V_j \\neq \\emptyset} x_ix_j$\n",
        "* $H_B = -B\\sum\\limits_{i}x_i$\n",
        "* A > B\n",
        "\n",
        "where $x_i \\in \\{0,1\\}$"
      ]
    },
    {
      "cell_type": "markdown",
      "metadata": {
        "id": "gxGzneHyAgH3",
        "colab_type": "text"
      },
      "source": [
        "## 2.2 Experimentation\n",
        "\n"
      ]
    },
    {
      "cell_type": "code",
      "metadata": {
        "id": "9fSTsge6AvRS",
        "colab_type": "code",
        "colab": {}
      },
      "source": [
        "from itertools import combinations\n",
        "\n",
        "class SetPacking:\n",
        "  def __init__(self, U, V):\n",
        "    self.U = U\n",
        "    self.V = V\n",
        "    self.vartype = dimod.BINARY\n",
        "    self.linear = defaultdict(int)\n",
        "    self.quadratic = defaultdict(int)\n",
        "    self.offset = 0.0\n",
        "    \n",
        "    self.n = len(self.U)\n",
        "    self.B = 1.0\n",
        "    self.A = 10 * self.B\n",
        "    print(f\"Setting A:{self.A} and B:{self.B}\")\n",
        "    self.N = len(self.V)\n",
        "\n",
        "    if self.n == 0 or self.N == 0:\n",
        "      raise ValueError(\"U or V cannot be empty.\")\n",
        "\n",
        "    self.solver = None\n",
        "\n",
        "  def _energy_function_h_a(self):\n",
        "    for idx_i, idx_j in list(combinations(range(len(self.V)), 2)):\n",
        "      if len(list(set(self.V[idx_i]) & set(self.V[idx_j]))) > 0:\n",
        "        self.quadratic[(idx_i, idx_j)] += self.A\n",
        "\n",
        "  def _energy_function_h_b(self):\n",
        "    for idx in range(len(self.V)):\n",
        "      self.linear[idx] -= self.B\n",
        "\n",
        "  def solve(self, solver=None, **kwargs):\n",
        "    self._energy_function_h_a()\n",
        "    self._energy_function_h_b()\n",
        "    return self._solve(solver=solver, **kwargs)\n",
        "\n",
        "  def _solve(self, solver=None, **kwargs):\n",
        "    if solver == None:\n",
        "      print(\"Setting the solver as QBsolv\")\n",
        "      solver = QBSolv()\n",
        "\n",
        "    print(self.linear)\n",
        "    print(self.quadratic)\n",
        "    print(self.offset)\n",
        "    bqm = dimod.BinaryQuadraticModel(self.linear, self.quadratic, self.offset,\n",
        "                                     self.vartype)\n",
        "    return solver.sample(bqm, **kwargs)\n",
        "  "
      ],
      "execution_count": 16,
      "outputs": []
    },
    {
      "cell_type": "code",
      "metadata": {
        "id": "08JtNJ9QG38Q",
        "colab_type": "code",
        "colab": {
          "base_uri": "https://localhost:8080/",
          "height": 139
        },
        "outputId": "369a2726-cd8d-4c85-e641-aa1eb2b278cb"
      },
      "source": [
        "U = [1,2,3,4,5,6]\n",
        "V = [[1,2],[3,4],[5,6], [1,2,3],[3,4,5], [4,5,6]]\n",
        "\n",
        "# test h_a energy function\n",
        "set_packing_h_a = SetPacking(U, V)\n",
        "set_packing_h_a._energy_function_h_a()\n",
        "set_packing_h_a._energy_function_h_b()\n",
        "set_packing_h_a._solve(num_repeats=1000)"
      ],
      "execution_count": 18,
      "outputs": [
        {
          "output_type": "stream",
          "text": [
            "Setting A:10.0 and B:1.0\n",
            "Setting the solver as QBsolv\n",
            "defaultdict(<class 'int'>, {0: -1.0, 1: -1.0, 2: -1.0, 3: -1.0, 4: -1.0, 5: -1.0})\n",
            "defaultdict(<class 'int'>, {(0, 3): 10.0, (1, 3): 10.0, (1, 4): 10.0, (1, 5): 10.0, (2, 4): 10.0, (2, 5): 10.0, (3, 4): 10.0, (4, 5): 10.0})\n",
            "0.0\n"
          ],
          "name": "stdout"
        },
        {
          "output_type": "execute_result",
          "data": {
            "text/plain": [
              "SampleSet(rec.array([([1, 1, 1, 0, 0, 0], -3., 965), ([1, 0, 0, 0, 1, 0], -2.,  37)],\n",
              "          dtype=[('sample', 'i1', (6,)), ('energy', '<f8'), ('num_occurrences', '<i8')]), [0, 1, 2, 3, 4, 5], {}, 'BINARY')"
            ]
          },
          "metadata": {
            "tags": []
          },
          "execution_count": 18
        }
      ]
    },
    {
      "cell_type": "markdown",
      "metadata": {
        "id": "eCqz7J29I8tQ",
        "colab_type": "text"
      },
      "source": [
        "# 3. Vertex Cover"
      ]
    },
    {
      "cell_type": "markdown",
      "metadata": {
        "id": "b4MFUOvkI-56",
        "colab_type": "text"
      },
      "source": [
        "## 3.1 Problem Definition\n",
        "\n",
        "Given a directed graph $G = (V, E)$ what is the smallest number of vertices that can be coloured such that every edge is incident to a coloured vertex.\n"
      ]
    },
    {
      "cell_type": "markdown",
      "metadata": {
        "id": "_eMfP21ZLd2w",
        "colab_type": "text"
      },
      "source": [
        "### 3.1.1 Energy Function.\n",
        "\n",
        "Let $x_v$ be a binary variable for each vertex, that is $0$ when the vertex is not cloured, but $1$ when its is.\n",
        "\n",
        "* $H = H_A + H_B$\n",
        "* $H_A = A \\sum\\limits_{x,v\\in E}(1-x_u)(1-x_v) = A(|E| + \\sum\\limits_{x,v \\in E}x_ux_v-x_u-x_v)$\n",
        "* $H_B = B \\sum\\limits_{v} x_v$"
      ]
    },
    {
      "cell_type": "markdown",
      "metadata": {
        "id": "J72uLP4YL6Qz",
        "colab_type": "text"
      },
      "source": [
        "## 3.2 Experimentations"
      ]
    },
    {
      "cell_type": "code",
      "metadata": {
        "id": "Y_TddxEyMpeD",
        "colab_type": "code",
        "colab": {}
      },
      "source": [
        "from itertools import combinations\n",
        "\n",
        "class VertexCover:\n",
        "  def __init__(self, G):\n",
        "    self.vartype = dimod.BINARY\n",
        "    self.linear = defaultdict(int)\n",
        "    self.quadratic = defaultdict(int)\n",
        "    self.offset = 0.0\n",
        "\n",
        "    self.B = 1.0\n",
        "    self.A = 10.0 * self.B\n",
        "    print(f\"Setting A:{self.A} and B:{self.B}\")\n",
        "    self.G = G\n",
        "    self.solver = None\n",
        "\n",
        "  def _energy_function_h_a(self):\n",
        "    for u, v in self.G.edges():\n",
        "      self.offset += self.A\n",
        "      self.linear[u] -= self.A\n",
        "      self.linear[v] -= self.A\n",
        "      self.quadratic[(u, v)] += self.A\n",
        "\n",
        "  def _energy_function_h_b(self):\n",
        "    for idx in range(len(self.G.nodes())):\n",
        "      self.linear[idx] += self.B\n",
        "\n",
        "  def solve(self, solver=None, **kwargs):\n",
        "    self._energy_function_h_a()\n",
        "    self._energy_function_h_b()\n",
        "    return self._solve(solver=solver, **kwargs)\n",
        "\n",
        "  def _solve(self, solver=None, **kwargs):\n",
        "    if solver == None:\n",
        "      print(\"Setting the solver as QBsolv\")\n",
        "      solver = QBSolv()\n",
        "\n",
        "    print(self.linear)\n",
        "    print(self.quadratic)\n",
        "    print(self.offset)\n",
        "    bqm = dimod.BinaryQuadraticModel(self.linear, self.quadratic, self.offset,\n",
        "                                     self.vartype)\n",
        "    return solver.sample(bqm, **kwargs)\n",
        "  "
      ],
      "execution_count": 58,
      "outputs": []
    },
    {
      "cell_type": "code",
      "metadata": {
        "id": "PES3pbquXNQb",
        "colab_type": "code",
        "colab": {
          "base_uri": "https://localhost:8080/",
          "height": 335
        },
        "outputId": "b660ef3f-c429-4f00-a09c-79a89b4b6d4b"
      },
      "source": [
        "## Define the graph\n",
        "G_three = nx.Graph()\n",
        "G_three.add_edges_from([(0,1),(0,2),(0,3),(0,4),(1,2),(3,4)])\n",
        "pos = nx.spring_layout(G_three)\n",
        "\n",
        "nx.draw_networkx_nodes(G_three, nodelist=G_three.nodes(), pos=pos, node_color='r')\n",
        "nx.draw_networkx_edges(G_three, pos)\n",
        "nx.draw_networkx_labels(G_three, pos, font_color='w', font_size=12)"
      ],
      "execution_count": 62,
      "outputs": [
        {
          "output_type": "execute_result",
          "data": {
            "text/plain": [
              "{0: Text(0.0005584830638797252, 0.001620121988841208, '0'),\n",
              " 1: Text(0.04787180948336928, -1.0, '1'),\n",
              " 2: Text(-0.6539035968808192, -0.7580909027598135, '2'),\n",
              " 3: Text(0.6512507923069597, 0.7580990584101648, '3'),\n",
              " 4: Text(-0.04577748797338965, 0.9983717223608077, '4')}"
            ]
          },
          "metadata": {
            "tags": []
          },
          "execution_count": 62
        },
        {
          "output_type": "display_data",
          "data": {
            "image/png": "[encoded data removed]",
            "text/plain": [
              "<Figure size 432x288 with 1 Axes>"
            ]
          },
          "metadata": {
            "tags": []
          }
        }
      ]
    },
    {
      "cell_type": "code",
      "metadata": {
        "id": "QSmBdaxcX_PP",
        "colab_type": "code",
        "colab": {
          "base_uri": "https://localhost:8080/",
          "height": 156
        },
        "outputId": "a6c0cfd8-a43a-4dda-f06b-7703356e8306"
      },
      "source": [
        "vertex_cover = VertexCover(G_three)\n",
        "vertex_cover._energy_function_h_a()\n",
        "vertex_cover._energy_function_h_b()\n",
        "vertex_cover._solve(num_repeats=1000)"
      ],
      "execution_count": 63,
      "outputs": [
        {
          "output_type": "stream",
          "text": [
            "Setting A:10.0 and B:1.0\n",
            "Setting the solver as QBsolv\n",
            "defaultdict(<class 'int'>, {0: -39.0, 1: -19.0, 2: -19.0, 3: -19.0, 4: -19.0})\n",
            "defaultdict(<class 'int'>, {(0, 1): 10.0, (0, 2): 10.0, (0, 3): 10.0, (0, 4): 10.0, (1, 2): 10.0, (3, 4): 10.0})\n",
            "60.0\n"
          ],
          "name": "stdout"
        },
        {
          "output_type": "execute_result",
          "data": {
            "text/plain": [
              "SampleSet(rec.array([([1, 1, 0, 0, 1], 3., 236), ([1, 0, 1, 1, 0], 3., 242),\n",
              "           ([1, 0, 1, 0, 1], 3., 250), ([1, 1, 0, 1, 0], 3., 273)],\n",
              "          dtype=[('sample', 'i1', (5,)), ('energy', '<f8'), ('num_occurrences', '<i8')]), [0, 1, 2, 3, 4], {}, 'BINARY')"
            ]
          },
          "metadata": {
            "tags": []
          },
          "execution_count": 63
        }
      ]
    },
    {
      "cell_type": "markdown",
      "metadata": {
        "id": "KVkEHuLBHnXt",
        "colab_type": "text"
      },
      "source": [
        "# References:\n",
        "\n",
        "[1] Cormen, Thomas H., Charles E. Leiserson, Ronald L. Rivest, and Clifford Stein. *Introduction to algorithms.* MIT press, 2009.\n",
        "\n",
        "[2] Lucas, Andrew. \"Ising formulations of many NP problems.\" *Frontiers in Physics 2* (2014): 5.\n"
      ]
    }
  ]
}