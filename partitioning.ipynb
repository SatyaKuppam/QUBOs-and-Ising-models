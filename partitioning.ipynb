{
  "nbformat": 4,
  "nbformat_minor": 0,
  "metadata": {
    "colab": {
      "name": "partitioning.ipynb",
      "provenance": [],
      "collapsed_sections": [],
      "authorship_tag": "ABX9TyNuzvpEL1V5nndeREJ5DHOz",
      "include_colab_link": true
    },
    "kernelspec": {
      "name": "python3",
      "display_name": "Python 3"
    }
  },
  "cells": [
    {
      "cell_type": "markdown",
      "metadata": {
        "id": "view-in-github",
        "colab_type": "text"
      },
      "source": [
        "<a href=\"https://colab.research.google.com/github/SatyaKuppam/QUBOs-and-Ising-models/blob/master/partitioning.ipynb\" target=\"_parent\"><img src=\"https://colab.research.google.com/assets/colab-badge.svg\" alt=\"Open In Colab\"/></a>"
      ]
    },
    {
      "cell_type": "code",
      "metadata": {
        "id": "YWefW__tLAzH",
        "colab_type": "code",
        "colab": {}
      },
      "source": [
        "!pip install dwave-ocean-sdk"
      ],
      "execution_count": 0,
      "outputs": []
    },
    {
      "cell_type": "code",
      "metadata": {
        "id": "r3tvLJ8CLO1B",
        "colab_type": "code",
        "colab": {}
      },
      "source": [
        "!dwave setup"
      ],
      "execution_count": 0,
      "outputs": []
    },
    {
      "cell_type": "markdown",
      "metadata": {
        "id": "6D1Hxxh6XuHs",
        "colab_type": "text"
      },
      "source": [
        "API KEY DEV-ede183dc09b59568533c926888403f9f50eea422"
      ]
    },
    {
      "cell_type": "code",
      "metadata": {
        "id": "mhp9x2emLzxa",
        "colab_type": "code",
        "outputId": "aff86c95-13e6-4053-ce1b-88634dcf40c3",
        "colab": {
          "base_uri": "https://localhost:8080/",
          "height": 416
        }
      },
      "source": [
        "!dwave ping"
      ],
      "execution_count": 2,
      "outputs": [
        {
          "output_type": "stream",
          "text": [
            "Using endpoint: https://cloud.dwavesys.com/sapi/\n",
            "Using solver: DW_2000Q_6\n",
            "Submitted problem ID: e79b2860-0829-4e6b-9d42-7963807c9391\n",
            "\n",
            "Wall clock time:\n",
            " * Solver definition fetch: 268.264 ms\n",
            " * Problem submit and results fetch: 1303.824 ms\n",
            " * Total: 1572.088 ms\n",
            "\n",
            "QPU timing:\n",
            " * anneal_time_per_run = 20 us\n",
            " * post_processing_overhead_time = 93 us\n",
            " * qpu_access_overhead_time = 819 us\n",
            " * qpu_access_time = 10921 us\n",
            " * qpu_anneal_time_per_sample = 20 us\n",
            " * qpu_delay_time_per_sample = 21 us\n",
            " * qpu_programming_time = 10682 us\n",
            " * qpu_readout_time_per_sample = 198 us\n",
            " * qpu_sampling_time = 239 us\n",
            " * readout_time_per_run = 198 us\n",
            " * run_time_chip = 239 us\n",
            " * total_post_processing_time = 93 us\n",
            " * total_real_time = 10921 us\n"
          ],
          "name": "stdout"
        }
      ]
    },
    {
      "cell_type": "code",
      "metadata": {
        "id": "ua8442DfJ-vw",
        "colab_type": "code",
        "colab": {}
      },
      "source": [
        "import networkx as nx\n",
        "import dwave_networkx as dnx\n",
        "import matplotlib\n",
        "import matplotlib.pyplot as plt\n",
        "import dimod\n",
        "%matplotlib inline\n",
        "\n",
        "from dwave.system.samplers import DWaveSampler\n",
        "from dwave.system.composites import EmbeddingComposite\n",
        "from dwave.cloud import Client\n",
        "from dwave.system.samplers import DWaveSampler\n",
        "from dwave.system.composites import EmbeddingComposite\n",
        "from dwave_qbsolv import QBSolv\n",
        "from collections import defaultdict\n",
        "\n",
        "import networkx as nx\n",
        "import dwave_networkx as dnx\n",
        "import neal"
      ],
      "execution_count": 0,
      "outputs": []
    },
    {
      "cell_type": "markdown",
      "metadata": {
        "id": "yZVOsQhTIhKM",
        "colab_type": "text"
      },
      "source": [
        "## 1. Number Partitioning\n",
        "\n",
        "* This problem is know to be $NP$-complete.\n",
        "\n",
        "* The ising model represenatation we consider for number partitioning[1] is $$H = A(\\sum_{i=1}^{N}n_is_i)^2$$\n",
        "* The corresponding QUBO representation is: $$Q = A(\\sum_{i=1}^{N}n_i^2q_i-\\sum_{i=1}^{N}\\sum_{j=1}^{N}n_in_jq_i+2\\sum_{1\\leq i<j\\leq N}n_in_jq_iq_j)$$\n",
        "\n",
        "* Notice that in the QUBO representation we have disregarded the terms which are independent of $q_i$. Hence the minimum energy will be lower than 0.\n",
        "\n",
        "* For simplicity of our experimentation we use $A=1$"
      ]
    },
    {
      "cell_type": "markdown",
      "metadata": {
        "id": "P6A-ZZ3dQg7N",
        "colab_type": "text"
      },
      "source": [
        "Lets take the set of numbers of $[1,2,3,4]$ to be split into two sets.\n",
        "The partition that gives us the least energy is $[1,4]$ and $[2,3]$.\n"
      ]
    },
    {
      "cell_type": "code",
      "metadata": {
        "id": "uR9u22ZpVoy3",
        "colab_type": "code",
        "colab": {}
      },
      "source": [
        "def number_partition(numbers, sampler=None, num_repeats=1000):\n",
        "  Q = defaultdict(int)\n",
        "\n",
        "  for i in numbers:\n",
        "    Q[(i,i)] += i ** 2\n",
        "\n",
        "  for i in numbers:\n",
        "    for j in numbers:\n",
        "      Q[(i,i)] -= i * j\n",
        "\n",
        "  for idx, number in enumerate(numbers):\n",
        "    for jdx in range(idx+1,len(numbers)):\n",
        "      Q[(number,numbers[jdx])] += 2 * number * numbers[jdx]\n",
        "\n",
        "  return sampler.sample_qubo(Q, num_repeats=num_repeats)"
      ],
      "execution_count": 0,
      "outputs": []
    },
    {
      "cell_type": "code",
      "metadata": {
        "id": "ld3Hpayd79B6",
        "colab_type": "code",
        "outputId": "ba428eb2-9ae0-400b-d96d-d86d5c2eb648",
        "colab": {
          "base_uri": "https://localhost:8080/",
          "height": 121
        }
      },
      "source": [
        "response = number_partition(range(1,5), sampler=QBSolv())\n",
        "print(response)\n",
        "print(\"samples=\" + str(list(response.samples())))\n",
        "print(\"energies=\" + str(list(response.data_vectors['energy'])))"
      ],
      "execution_count": 0,
      "outputs": [
        {
          "output_type": "stream",
          "text": [
            "   1  2  3  4 energy num_oc.\n",
            "0  0  1  1  0  -25.0     494\n",
            "1  1  0  0  1  -25.0     507\n",
            "['BINARY', 2 rows, 1001 samples, 4 variables]\n",
            "samples=[{1: 0, 2: 1, 3: 1, 4: 0}, {1: 1, 2: 0, 3: 0, 4: 1}]\n",
            "energies=[-25.0, -25.0]\n"
          ],
          "name": "stdout"
        }
      ]
    },
    {
      "cell_type": "markdown",
      "metadata": {
        "id": "degCJfaTQpLH",
        "colab_type": "text"
      },
      "source": [
        "In the above example we could partition the sets into two whose sum of constituent elements in the same. Sometime its not possible to do so.\n",
        "For example the set $[1,2,3,4,5]$. The partitions whose sum differ by atmost 1 are:\n",
        "\n",
        "* [1,2,5] and [3,4]\n",
        "* [1,2,4] and [3,5]\n",
        "* [1,3,4] and [2,5]"
      ]
    },
    {
      "cell_type": "code",
      "metadata": {
        "id": "AqNsTHGxQe_M",
        "colab_type": "code",
        "outputId": "5c71d828-6343-4e19-a770-b774b230690b",
        "colab": {
          "base_uri": "https://localhost:8080/",
          "height": 52
        }
      },
      "source": [
        "response = number_partition(range(1,6), sampler=QBSolv())\n",
        "print(\"samples=\" + str(list(response.samples())))\n",
        "print(\"energies=\" + str(list(response.data_vectors['energy'])))"
      ],
      "execution_count": 0,
      "outputs": [
        {
          "output_type": "stream",
          "text": [
            "samples=[{1: 0, 2: 0, 3: 1, 4: 0, 5: 1}, {1: 0, 2: 1, 3: 0, 4: 0, 5: 1}, {1: 1, 2: 0, 3: 1, 4: 1, 5: 0}, {1: 0, 2: 0, 3: 1, 4: 1, 5: 0}, {1: 1, 2: 1, 3: 0, 4: 0, 5: 1}, {1: 1, 2: 1, 3: 0, 4: 1, 5: 0}]\n",
            "energies=[-56.0, -56.0, -56.0, -56.0, -56.0, -56.0]\n"
          ],
          "name": "stdout"
        }
      ]
    },
    {
      "cell_type": "code",
      "metadata": {
        "id": "rQVIMba0f36e",
        "colab_type": "code",
        "colab": {}
      },
      "source": [
        "def number_partition_bqm(numbers, sampler=None, num_repeats=1000):\n",
        "  linear, quadratic = defaultdict(int), defaultdict(int)\n",
        "\n",
        "  for i in numbers:\n",
        "    linear[i] += i ** 2\n",
        "\n",
        "  for i in numbers:\n",
        "    for j in numbers:\n",
        "      quadratic[(i,i)] -= i * j\n",
        "\n",
        "  for idx, number in enumerate(numbers):\n",
        "    for jdx in range(idx+1,len(numbers)):\n",
        "      quadratic[(number,numbers[jdx])] += 2 * number * numbers[jdx]\n",
        "\n",
        "  offset = 0.0\n",
        "  vartype = dimod.BINARY\n",
        "  bqm = dimod.BinaryQuadraticModel(linear, quadratic, offset, vartype)\n",
        "  Q, _ = bqm.to_qubo()\n",
        "  print(bqm.to_qubo())\n",
        "  return sampler.sample(bqm, num_repeats=num_repeats)"
      ],
      "execution_count": 0,
      "outputs": []
    },
    {
      "cell_type": "code",
      "metadata": {
        "id": "LCxIJUZRjCrj",
        "colab_type": "code",
        "outputId": "0ec535e9-e933-45cf-f8b7-d9ce0301512c",
        "colab": {
          "base_uri": "https://localhost:8080/",
          "height": 139
        }
      },
      "source": [
        "response = number_partition_bqm(range(1,5), sampler=QBSolv())\n",
        "print(response)\n",
        "print(\"samples=\" + str(list(response.samples())))\n",
        "print(\"energies=\" + str(list(response.data_vectors['energy'])))"
      ],
      "execution_count": 0,
      "outputs": [
        {
          "output_type": "stream",
          "text": [
            "({(1, 2): 4, (1, 3): 6, (1, 4): 8, (2, 3): 12, (2, 4): 16, (3, 4): 24, (1, 1): -9.0, (2, 2): -16.0, (3, 3): -21.0, (4, 4): -24.0}, 0.0)\n",
            "   1  2  3  4 energy num_oc.\n",
            "0  1  0  0  1  -25.0     502\n",
            "1  0  1  1  0  -25.0     499\n",
            "['BINARY', 2 rows, 1001 samples, 4 variables]\n",
            "samples=[{1: 1, 2: 0, 3: 0, 4: 1}, {1: 0, 2: 1, 3: 1, 4: 0}]\n",
            "energies=[-25.0, -25.0]\n"
          ],
          "name": "stdout"
        }
      ]
    },
    {
      "cell_type": "markdown",
      "metadata": {
        "id": "4SFt16fDJ_uz",
        "colab_type": "text"
      },
      "source": [
        "## 2. Graph Partitioning\n",
        "\n",
        "* This problem is a known $NP$-hard problem.\n",
        "\n",
        "* Given a graph with $N=|V|$ edges partition it into two sets of equal size (i.e $\\frac{N}{2}$) such that, the number of edges between the two is minimized.\n",
        "\n",
        "* From Lucas[1] the ising formulation for this energy function is: \n",
        "$$H_A = A(\\sum_{i=1}^{N}s_i)^2$$ and $$H_B = B \\sum_{(u,v)\\in E} \\frac{1-s_us_v}{2}$$ and $$H = H_A + H_B$$\n",
        "\n",
        "* The corresponding QUBO formulation for this problem is: $$Q_A = A[(1-N)\\sum_{i=1}^{N}q_i + 2 \\sum_{1\\leq i <j\\leq N} q_iq_j]$$ and $$Q_B = B \\sum_{(u,v)\\in E}(q_u+q_v-2q_uq_v)$$ and $$Q = Q_A + Q_B$$\n",
        "\n",
        "\n",
        "* From Lucas[1] we also get the relationship between $A$ and $B$: $$\\frac{A}{B}\\geq \\frac{min(2\\Delta,N)}{8}$$"
      ]
    },
    {
      "cell_type": "code",
      "metadata": {
        "id": "4Vo-Huw05C2S",
        "colab_type": "code",
        "outputId": "52d76a43-15f4-43bc-a84f-65340d7c9944",
        "colab": {
          "base_uri": "https://localhost:8080/",
          "height": 317
        }
      },
      "source": [
        "## Define the graph\n",
        "G = nx.Graph()\n",
        "G.add_edges_from([(1,3),(3,2),(2,4)])\n",
        "pos = nx.spring_layout(G)\n",
        "\n",
        "nx.draw_networkx_nodes(G, node_list=G.nodes(), pos=pos, node_color='r')\n",
        "nx.draw_networkx_edges(G, pos)\n",
        "nx.draw_networkx_labels(G, pos, font_color='w', font_size=12)\n",
        "\n",
        "def general_graph_partitioning(G, sampler=None, num_repeats=1000):\n",
        "  Q = defaultdict(int)\n",
        "\n",
        "  ## TODO: pass A and B as arguments and raise error when the \n",
        "  ##       condition is not satisfied\n",
        "  A, B = 10, 1\n",
        "  N = len(G.nodes())\n",
        "\n",
        "  ## For Q_A\n",
        "  for node in G.nodes():\n",
        "    Q[(node, node)] += A * (1-N)\n",
        "\n",
        "  for node_u in G.nodes():\n",
        "    for node_v in G.nodes():\n",
        "      Q[(node_u, node_v)] += 2 * A\n",
        "     \n",
        "  ## For Q_B\n",
        "  for u,v in G.edges():\n",
        "    Q[(u,u)] += B\n",
        "    Q[(v,v)] += B\n",
        "    Q[(u,v)] -= 2 * B\n",
        "\n",
        "  return sampler.sample_qubo(Q, num_repeats=num_repeats)\n",
        "\n",
        "print(general_graph_partitioning(G, sampler=QBSolv()))"
      ],
      "execution_count": 7,
      "outputs": [
        {
          "output_type": "stream",
          "text": [
            "   1  2  3  4 energy num_oc.\n",
            "0  1  0  0  0   -9.0     517\n",
            "1  0  0  0  1   -9.0     484\n",
            "['BINARY', 2 rows, 1001 samples, 4 variables]\n"
          ],
          "name": "stdout"
        },
        {
          "output_type": "display_data",
          "data": {
            "image/png": "[encoded data removed]",
            "text/plain": [
              "<Figure size 432x288 with 1 Axes>"
            ]
          },
          "metadata": {
            "tags": []
          }
        }
      ]
    },
    {
      "cell_type": "markdown",
      "metadata": {
        "id": "CohOQfgqnO5w",
        "colab_type": "text"
      },
      "source": [
        "## Finding Maximal Clique\n",
        "\n",
        "* Finding the largest clique in a graph is a NP-hard problem, with its decision counter part being a NP-complete problem. We will solve this problem with the ising model from Lucas [1]. However it should be noted that DWave's maximal clique implementation [2], finds the maximal clique by finding the maximum independent set in the complementary graph.\n",
        "\n",
        "\n",
        "* Say we have a graph $G=(V,E)$, $\\Delta$ is the maximum degree of the graph. Lucas [1] implementation uses $2|V|-1$ spins. We define a binary variable $y_i$ which is $1$ for $i$ that is the largest clique and zero otherwise. We also have $x_i$ which is $1$ if the vertex $i$ is in the clique else its $0$.\n",
        "\n",
        "* The energy function can be divided into three parts $H = H_A + H_B + H_C$.\n",
        "\n",
        "* $$H_A = A(1 - \\sum_{i=2}^{N}y_i)^2 + A(\\sum_{i=2}^{N}iy_i - \\sum_{v}x_v), \\space\\space\\space\\space\\space A>0$$ This energy function penalizes choosing more than one value for $y_i$.\n",
        "\n",
        "* $$H_B = \\frac{B}{2}(\\sum_{i=2}^{N}iy_i)(\\sum_{i=2}^{N}iy_i-1)-B\\sum_{(u,v)\\in E}x_ux_v, \\space\\space\\space B>0$$ This energy function ensures that we have a clique.\n",
        "\n",
        "* The ground state is $$H_A=H_B=0$$, with $$A > \\Delta B$$.\n",
        "\n",
        "* $$H_C = -C\\sum_{v}x_v$$ which is linearly weighted on the size of the clique. This ensures that we find the largest clique always.\n",
        "\n",
        "* From Lucas [1] we will choose the value for $A,B,C$ as $A = (\\Delta + 2)B$ and $B=C$.\n",
        "\n"
      ]
    },
    {
      "cell_type": "code",
      "metadata": {
        "id": "EWXNXl6knOMt",
        "colab_type": "code",
        "colab": {}
      },
      "source": [
        "class maximal_clique:\n",
        "  def __init__(self, G, A=None, B=1.0, C=1.0):\n",
        "    self.Q = defaultdict(int)\n",
        "    self.G = G\n",
        "    self.N = len(G.nodes())\n",
        "    self.Delta = max(x for _,x in G.degree())\n",
        "    self.B = B\n",
        "    self.C = C\n",
        "    if A is None:\n",
        "      self.A = (self.Delta + 2) * self.B\n",
        "    else:\n",
        "      self.A = A\n",
        "    self.yidx_start = self.N + 2\n",
        "    self.yidx_end = 2 * self.N + 1\n",
        "    print(f\"Maximal degree of the graph is {self.Delta}\")\n",
        "    print(f\"Setting A {self.A}, B {self.B}, C {self.C}\")\n",
        "    # index for y_i spins\n",
        "    self.y = self.N + 1\n",
        "\n",
        "  def energy_function(self):\n",
        "    return\n",
        "  \n",
        "  def _energy_function_h_a(self):\n",
        "    yidx_start = self.yidx_start\n",
        "    yidx_end = self.yidx_end\n",
        "\n",
        "    for i in range(yidx_start, yidx_end):\n",
        "      for j in range(yidx_start, yidx_end):\n",
        "        self.Q[(i, j)] += self.A\n",
        "    \n",
        "    for i in range(yidx_start, yidx_end):\n",
        "      self.Q[(i,i)] -= 2 * self.A\n",
        "    \n",
        "    for i in range(yidx_start, yidx_end):\n",
        "      for j in range(yidx_start, yidx_end):\n",
        "        self.Q[(i, j)] += self.A * (i-self.N) * (j-self.N)\n",
        "    \n",
        "    for u in self.G.nodes():\n",
        "      for v in self.G.nodes():\n",
        "        self.Q[(u, v)] += self.A\n",
        "      \n",
        "    for i in range(yidx_start, yidx_end):\n",
        "      for u in self.G.nodes():\n",
        "        self.Q[(i, u)] -= 2 * self.A * (i-self.N)\n",
        "\n",
        "  def _energy_function_h_b(self):\n",
        "    yidx_start = self.yidx_start\n",
        "    yidx_end = self.yidx_end\n",
        "\n",
        "    for i in range(yidx_start, yidx_end):\n",
        "      self.Q[(i,i)] -= self.B * 0.5\n",
        "      for j in range(yidx_start, yidx_end):\n",
        "        self.Q[(i, j)] += self.B * 0.5 * (i-self.N) * (j-self.N)\n",
        "    \n",
        "    for u,v in self.G.edges():\n",
        "      self.Q[(u, v)] -= self.B\n",
        "\n",
        "  def _energy_function_h_c(self):\n",
        "    for node in self.G.nodes():\n",
        "      self.Q[(node, node)] -= self.C\n",
        "\n",
        "  def solve(self, solver=None, **kwargs):\n",
        "    print(self.Q)\n",
        "\n",
        "    if solver is None:\n",
        "      print(\"Setting the solver as QBsolv\")\n",
        "      solver = QBSolv()\n",
        "  \n",
        "    return solver.sample_qubo(self.Q, **kwargs)"
      ],
      "execution_count": 0,
      "outputs": []
    },
    {
      "cell_type": "markdown",
      "metadata": {
        "id": "uNEvIzf9G_FO",
        "colab_type": "text"
      },
      "source": [
        "$H_A$ can be simplified as: $$H_A = A[1+\\sum_{i=2}^{N}y_i\\sum_{j=2}^{N}y_j-2\\sum_{i=2}^{N}y_i]+A[\\sum_{i=2}^{N}iy_i\\sum_{j=2}^{N}jy_j+\\sum_{u}x_u\\sum_{v}x_v-2\\sum_{i=2}^{N}iy_i\\sum_{u}x_u]$$ we will eliminate the constant offset $A$."
      ]
    },
    {
      "cell_type": "markdown",
      "metadata": {
        "id": "qK_WaxvierWn",
        "colab_type": "text"
      },
      "source": [
        "Lets define a graph with clique of size three for testing."
      ]
    },
    {
      "cell_type": "code",
      "metadata": {
        "id": "ULpoVfoe-V8U",
        "colab_type": "code",
        "outputId": "5669df23-ec9e-4661-b128-7975fb9d8f18",
        "colab": {
          "base_uri": "https://localhost:8080/",
          "height": 387
        }
      },
      "source": [
        "## Define the graph\n",
        "G_three = nx.Graph()\n",
        "G_three.add_edges_from([(1,2),(1,3),(1,4), (2,3)])\n",
        "pos = nx.spring_layout(G_three)\n",
        "\n",
        "for u,v in G_three.edges():\n",
        "  print(u,v)\n",
        "\n",
        "nx.draw_networkx_nodes(G_three, node_list=G_three.nodes(), pos=pos, node_color='r')\n",
        "nx.draw_networkx_edges(G_three, pos)\n",
        "nx.draw_networkx_labels(G_three, pos, font_color='w', font_size=12)"
      ],
      "execution_count": 26,
      "outputs": [
        {
          "output_type": "stream",
          "text": [
            "1 2\n",
            "1 3\n",
            "1 4\n",
            "2 3\n"
          ],
          "name": "stdout"
        },
        {
          "output_type": "execute_result",
          "data": {
            "text/plain": [
              "{1: Text(-0.13937506189649132, 0.0423191573222199, '1'),\n",
              " 2: Text(0.4702606361023699, -0.5004321489839147, '2'),\n",
              " 3: Text(0.6691144257941213, 0.1544752234635893, '3'),\n",
              " 4: Text(-1.0, 0.30363776819810534, '4')}"
            ]
          },
          "metadata": {
            "tags": []
          },
          "execution_count": 26
        },
        {
          "output_type": "display_data",
          "data": {
            "image/png": "[encoded data removed]",
            "text/plain": [
              "<Figure size 432x288 with 1 Axes>"
            ]
          },
          "metadata": {
            "tags": []
          }
        }
      ]
    },
    {
      "cell_type": "markdown",
      "metadata": {
        "id": "7REaEnAuflpK",
        "colab_type": "text"
      },
      "source": [
        "Lets first check if $H_A$ works as we predicted. We should have on of the $y_i$ spins marked as 1 and we should have $i$ $x_u$ spins marked as 1."
      ]
    },
    {
      "cell_type": "code",
      "metadata": {
        "id": "FCGGk8wMe-DR",
        "colab_type": "code",
        "outputId": "a67dcfdf-6301-4bbc-80c8-5a930980f027",
        "colab": {
          "base_uri": "https://localhost:8080/",
          "height": 211
        }
      },
      "source": [
        "maximal_clique_solver_three = maximal_clique(G_three)\n",
        "maximal_clique_solver_three._energy_function_h_a()\n",
        "maximal_clique_solver_three._energy_function_h_b()\n",
        "maximal_clique_solver_three._energy_function_h_c()\n",
        "maximal_clique_solver_three.solve(num_repeats=1000)"
      ],
      "execution_count": 27,
      "outputs": [
        {
          "output_type": "stream",
          "text": [
            "Maximal degree of the graph is 3\n",
            "Setting A 5.0, B 1.0, C 1.0\n",
            "defaultdict(<class 'int'>, {(6, 6): 16.5, (6, 7): 38.0, (6, 8): 49.0, (7, 6): 38.0, (7, 7): 44.0, (7, 8): 71.0, (8, 6): 49.0, (8, 7): 71.0, (8, 8): 82.5, (1, 1): 4.0, (1, 2): 4.0, (1, 3): 4.0, (1, 4): 4.0, (2, 1): 5.0, (2, 2): 4.0, (2, 3): 4.0, (2, 4): 5.0, (3, 1): 5.0, (3, 2): 5.0, (3, 3): 4.0, (3, 4): 5.0, (4, 1): 5.0, (4, 2): 5.0, (4, 3): 5.0, (4, 4): 4.0, (6, 1): -20.0, (6, 2): -20.0, (6, 3): -20.0, (6, 4): -20.0, (7, 1): -30.0, (7, 2): -30.0, (7, 3): -30.0, (7, 4): -30.0, (8, 1): -40.0, (8, 2): -40.0, (8, 3): -40.0, (8, 4): -40.0})\n",
            "Setting the solver as QBsolv\n"
          ],
          "name": "stdout"
        },
        {
          "output_type": "execute_result",
          "data": {
            "text/plain": [
              "SampleSet(rec.array([([1, 1, 1, 0, 0, 1, 0], -7. , 872),\n",
              "           ([1, 0, 0, 1, 1, 0, 0], -6.5,  36),\n",
              "           ([0, 1, 1, 0, 1, 0, 0], -6.5,  10),\n",
              "           ([1, 0, 1, 0, 1, 0, 0], -6.5,  44),\n",
              "           ([1, 1, 0, 0, 1, 0, 0], -6.5,  43)],\n",
              "          dtype=[('sample', 'i1', (7,)), ('energy', '<f8'), ('num_occurrences', '<i8')]), [1, 2, 3, 4, 6, 7, 8], {}, 'BINARY')"
            ]
          },
          "metadata": {
            "tags": []
          },
          "execution_count": 27
        }
      ]
    },
    {
      "cell_type": "markdown",
      "metadata": {
        "id": "iT_uyp15tzdM",
        "colab_type": "text"
      },
      "source": [
        "Lets check if $H_B$ works as predicted. This hamiltonian's ground state is when all the nodes are marked as $1$ and all $y_i$ spins are marked as $0$. This shows that $H_B$ without $H_A$ is not of much use."
      ]
    },
    {
      "cell_type": "code",
      "metadata": {
        "id": "Yt0SkJ6ztqsA",
        "colab_type": "code",
        "outputId": "48bcdbaf-7cd2-4723-c76b-006bd7e68450",
        "colab": {
          "base_uri": "https://localhost:8080/",
          "height": 317
        }
      },
      "source": [
        "## Define the graph\n",
        "G_four_fully_connected = nx.Graph()\n",
        "G_four_fully_connected.add_edges_from([(1,2),(1,3),(1,4), (2,4), (3,4), (2,3)])\n",
        "pos = nx.spring_layout(G_four_fully_connected)\n",
        "\n",
        "nx.draw_networkx_nodes(G_four_fully_connected, node_list=G_four_fully_connected.nodes(), pos=pos, node_color='r')\n",
        "nx.draw_networkx_edges(G_four_fully_connected, pos)\n",
        "nx.draw_networkx_labels(G_four_fully_connected, pos, font_color='w', font_size=12)"
      ],
      "execution_count": 19,
      "outputs": [
        {
          "output_type": "execute_result",
          "data": {
            "text/plain": [
              "{1: Text(0.7882513624541124, 1.0, '1'),\n",
              " 2: Text(-0.7882513624545904, -0.9999999999996237, '2'),\n",
              " 3: Text(0.9981440883234822, -0.7867884375468892, '3'),\n",
              " 4: Text(-0.9981440883230056, 0.7867884375465133, '4')}"
            ]
          },
          "metadata": {
            "tags": []
          },
          "execution_count": 19
        },
        {
          "output_type": "display_data",
          "data": {
            "image/png": "[encoded data removed]",
            "text/plain": [
              "<Figure size 432x288 with 1 Axes>"
            ]
          },
          "metadata": {
            "tags": []
          }
        }
      ]
    },
    {
      "cell_type": "code",
      "metadata": {
        "id": "aDfF0tLquM8r",
        "colab_type": "code",
        "outputId": "44bb073b-8d23-4cba-849b-b74f9a32ecda",
        "colab": {
          "base_uri": "https://localhost:8080/",
          "height": 211
        }
      },
      "source": [
        "maximal_clique_solver_four_fully_connected = maximal_clique(G_four_fully_connected)\n",
        "maximal_clique_solver_four_fully_connected._energy_function_h_a()\n",
        "maximal_clique_solver_four_fully_connected._energy_function_h_b()\n",
        "maximal_clique_solver_four_fully_connected._energy_function_h_c()\n",
        "maximal_clique_solver_four_fully_connected.solve(num_repeats=1000)"
      ],
      "execution_count": 28,
      "outputs": [
        {
          "output_type": "stream",
          "text": [
            "Maximal degree of the graph is 3\n",
            "Setting A 5.0, B 1.0, C 1.0\n",
            "defaultdict(<class 'int'>, {(6, 6): 16.5, (6, 7): 38.0, (6, 8): 49.0, (7, 6): 38.0, (7, 7): 44.0, (7, 8): 71.0, (8, 6): 49.0, (8, 7): 71.0, (8, 8): 82.5, (1, 1): 4.0, (1, 2): 4.0, (1, 3): 4.0, (1, 4): 4.0, (2, 1): 5.0, (2, 2): 4.0, (2, 3): 4.0, (2, 4): 4.0, (3, 1): 5.0, (3, 2): 5.0, (3, 3): 4.0, (3, 4): 4.0, (4, 1): 5.0, (4, 2): 5.0, (4, 3): 5.0, (4, 4): 4.0, (6, 1): -20.0, (6, 2): -20.0, (6, 3): -20.0, (6, 4): -20.0, (7, 1): -30.0, (7, 2): -30.0, (7, 3): -30.0, (7, 4): -30.0, (8, 1): -40.0, (8, 2): -40.0, (8, 3): -40.0, (8, 4): -40.0})\n",
            "Setting the solver as QBsolv\n"
          ],
          "name": "stdout"
        },
        {
          "output_type": "execute_result",
          "data": {
            "text/plain": [
              "SampleSet(rec.array([([1, 1, 1, 1, 0, 0, 1], -7.5, 588),\n",
              "           ([1, 1, 1, 0, 0, 1, 0], -7. ,  93),\n",
              "           ([0, 1, 1, 1, 0, 1, 0], -7. , 113),\n",
              "           ([1, 0, 1, 1, 0, 1, 0], -7. , 106),\n",
              "           ([1, 1, 0, 1, 0, 1, 0], -7. , 105)],\n",
              "          dtype=[('sample', 'i1', (7,)), ('energy', '<f8'), ('num_occurrences', '<i8')]), [1, 2, 3, 4, 6, 7, 8], {}, 'BINARY')"
            ]
          },
          "metadata": {
            "tags": []
          },
          "execution_count": 28
        }
      ]
    },
    {
      "cell_type": "markdown",
      "metadata": {
        "id": "VjQYsqMIGYyR",
        "colab_type": "text"
      },
      "source": [
        "The following graph has two cliques, where one clique is larger than the other."
      ]
    },
    {
      "cell_type": "code",
      "metadata": {
        "id": "YdyIT7HjF_ak",
        "colab_type": "code",
        "colab": {
          "base_uri": "https://localhost:8080/",
          "height": 352
        },
        "outputId": "63147dad-4b38-4eea-9f89-1b6be444c7e5"
      },
      "source": [
        "## Define the graph\n",
        "G_two_cliques = nx.Graph()\n",
        "G_two_cliques.add_edges_from([(1,2),(1,3),(1,4), (2,4), (3,4), (2,3), (1,5), (5,6), (6,1)])\n",
        "pos = nx.spring_layout(G_two_cliques)\n",
        "\n",
        "nx.draw_networkx_nodes(G_two_cliques, node_list=G_two_cliques.nodes(), pos=pos, node_color='r')\n",
        "nx.draw_networkx_edges(G_two_cliques, pos)\n",
        "nx.draw_networkx_labels(G_two_cliques, pos, font_color='w', font_size=12)"
      ],
      "execution_count": 23,
      "outputs": [
        {
          "output_type": "execute_result",
          "data": {
            "text/plain": [
              "{1: Text(0.0020244180145235, 0.0952223150625972, '1'),\n",
              " 2: Text(0.38823981629679255, -0.5830949396704713, '2'),\n",
              " 3: Text(-0.0198246537298921, -0.9324942056028345, '3'),\n",
              " 4: Text(-0.4126706159965689, -0.5660676703094866, '4'),\n",
              " 5: Text(0.34015618558329747, 0.9864345005201948, '5'),\n",
              " 6: Text(-0.29792515016815285, 1.0, '6')}"
            ]
          },
          "metadata": {
            "tags": []
          },
          "execution_count": 23
        },
        {
          "output_type": "display_data",
          "data": {
            "image/png": "[encoded data removed]",
            "text/plain": [
              "<Figure size 432x288 with 1 Axes>"
            ]
          },
          "metadata": {
            "tags": []
          }
        }
      ]
    },
    {
      "cell_type": "code",
      "metadata": {
        "id": "R8NI5k5eGdwi",
        "colab_type": "code",
        "colab": {
          "base_uri": "https://localhost:8080/",
          "height": 471
        },
        "outputId": "d4c418f3-b092-4619-cf2f-e32e99b319c5"
      },
      "source": [
        "maximal_clique_solver_two_cliques = maximal_clique(G_two_cliques)\n",
        "maximal_clique_solver_two_cliques._energy_function_h_a()\n",
        "maximal_clique_solver_two_cliques._energy_function_h_b()\n",
        "maximal_clique_solver_two_cliques._energy_function_h_c()\n",
        "maximal_clique_solver_two_cliques.solve(num_repeats=1000)"
      ],
      "execution_count": 29,
      "outputs": [
        {
          "output_type": "stream",
          "text": [
            "Maximal degree of the graph is 5\n",
            "Setting A 7.0, B 1.0, C 1.0\n",
            "defaultdict(<class 'int'>, {(8, 8): 22.5, (8, 9): 52.0, (8, 10): 67.0, (8, 11): 82.0, (8, 12): 97.0, (9, 8): 52.0, (9, 9): 60.0, (9, 10): 97.0, (9, 11): 119.5, (9, 12): 142.0, (10, 8): 67.0, (10, 9): 97.0, (10, 10): 112.5, (10, 11): 157.0, (10, 12): 187.0, (11, 8): 82.0, (11, 9): 119.5, (11, 10): 157.0, (11, 11): 180.0, (11, 12): 232.0, (12, 8): 97.0, (12, 9): 142.0, (12, 10): 187.0, (12, 11): 232.0, (12, 12): 262.5, (1, 1): 6.0, (1, 2): 6.0, (1, 3): 6.0, (1, 4): 6.0, (1, 5): 6.0, (1, 6): 6.0, (2, 1): 7.0, (2, 2): 6.0, (2, 3): 6.0, (2, 4): 6.0, (2, 5): 7.0, (2, 6): 7.0, (3, 1): 7.0, (3, 2): 7.0, (3, 3): 6.0, (3, 4): 6.0, (3, 5): 7.0, (3, 6): 7.0, (4, 1): 7.0, (4, 2): 7.0, (4, 3): 7.0, (4, 4): 6.0, (4, 5): 7.0, (4, 6): 7.0, (5, 1): 7.0, (5, 2): 7.0, (5, 3): 7.0, (5, 4): 7.0, (5, 5): 6.0, (5, 6): 6.0, (6, 1): 7.0, (6, 2): 7.0, (6, 3): 7.0, (6, 4): 7.0, (6, 5): 7.0, (6, 6): 6.0, (8, 1): -28.0, (8, 2): -28.0, (8, 3): -28.0, (8, 4): -28.0, (8, 5): -28.0, (8, 6): -28.0, (9, 1): -42.0, (9, 2): -42.0, (9, 3): -42.0, (9, 4): -42.0, (9, 5): -42.0, (9, 6): -42.0, (10, 1): -56.0, (10, 2): -56.0, (10, 3): -56.0, (10, 4): -56.0, (10, 5): -56.0, (10, 6): -56.0, (11, 1): -70.0, (11, 2): -70.0, (11, 3): -70.0, (11, 4): -70.0, (11, 5): -70.0, (11, 6): -70.0, (12, 1): -84.0, (12, 2): -84.0, (12, 3): -84.0, (12, 4): -84.0, (12, 5): -84.0, (12, 6): -84.0})\n",
            "Setting the solver as QBsolv\n"
          ],
          "name": "stdout"
        },
        {
          "output_type": "execute_result",
          "data": {
            "text/plain": [
              "SampleSet(rec.array([([1, 1, 1, 1, 0, 0, 0, 0, 1, 0, 0], -9.5, 221),\n",
              "           ([1, 1, 0, 1, 0, 0, 0, 1, 0, 0, 0], -9. , 168),\n",
              "           ([0, 1, 1, 1, 0, 0, 0, 1, 0, 0, 0], -9. , 184),\n",
              "           ([1, 0, 1, 1, 0, 0, 0, 1, 0, 0, 0], -9. ,  32),\n",
              "           ([1, 1, 1, 0, 0, 0, 0, 1, 0, 0, 0], -9. ,  75),\n",
              "           ([1, 0, 0, 0, 1, 1, 0, 1, 0, 0, 0], -9. ,  52),\n",
              "           ([1, 1, 0, 0, 0, 0, 1, 0, 0, 0, 0], -8.5,  29),\n",
              "           ([0, 0, 1, 1, 0, 0, 1, 0, 0, 0, 0], -8.5,  21),\n",
              "           ([0, 0, 0, 0, 1, 1, 1, 0, 0, 0, 0], -8.5, 107),\n",
              "           ([1, 0, 0, 0, 0, 1, 1, 0, 0, 0, 0], -8.5,  17),\n",
              "           ([1, 0, 1, 0, 0, 0, 1, 0, 0, 0, 0], -8.5,  19),\n",
              "           ([1, 0, 0, 1, 0, 0, 1, 0, 0, 0, 0], -8.5,  27),\n",
              "           ([1, 0, 0, 0, 1, 0, 1, 0, 0, 0, 0], -8.5,  21),\n",
              "           ([0, 1, 1, 0, 0, 0, 1, 0, 0, 0, 0], -8.5,  15),\n",
              "           ([0, 1, 0, 1, 0, 0, 1, 0, 0, 0, 0], -8.5,  29),\n",
              "           ([1, 1, 0, 0, 1, 0, 0, 1, 0, 0, 0], -8. ,   3),\n",
              "           ([1, 0, 0, 1, 1, 0, 0, 1, 0, 0, 0], -8. ,   1),\n",
              "           ([1, 0, 1, 0, 1, 0, 0, 1, 0, 0, 0], -8. ,   4),\n",
              "           ([0, 1, 0, 0, 1, 0, 1, 0, 0, 0, 0], -7.5,   2),\n",
              "           ([0, 0, 0, 1, 0, 1, 1, 0, 0, 0, 0], -7.5,   1)],\n",
              "          dtype=[('sample', 'i1', (11,)), ('energy', '<f8'), ('num_occurrences', '<i8')]), [1, 2, 3, 4, 5, 6, 8, 9, 10, 11, 12], {}, 'BINARY')"
            ]
          },
          "metadata": {
            "tags": []
          },
          "execution_count": 29
        }
      ]
    },
    {
      "cell_type": "markdown",
      "metadata": {
        "id": "4UB7K46vFv0V",
        "colab_type": "text"
      },
      "source": [
        "The Dwave BQM version of the QUBO above. In this representation we also add the contant offset $A$ in $H_A$."
      ]
    },
    {
      "cell_type": "code",
      "metadata": {
        "id": "zE6b2pejxB_I",
        "colab_type": "code",
        "colab": {}
      },
      "source": [
        "class maximal_clique_bqm:\n",
        "  def __init__(self, G, solver=None, A=None, B=1.0, C=1.0):\n",
        "    self.Q = defaultdict(int)\n",
        "    self.G = G\n",
        "    self.solver = solver\n",
        "    self.N = len(G.nodes())\n",
        "    self.Delta = max(x for _,x in G.degree())\n",
        "    self.B = B\n",
        "    self.C = C\n",
        "    if A is None:\n",
        "      self.A = (self.Delta + 2) * self.B\n",
        "    else:\n",
        "      self.A = A\n",
        "    self.yidx_start = self.N + 2\n",
        "    self.yidx_end = 2 * self.N + 1\n",
        "    print(f\"Maximal degree of the graph is {self.Delta}\")\n",
        "    print(f\"Setting A {self.A}, B {self.B}, C {self.C}\")\n",
        "    # index for y_i spins\n",
        "    self.y = self.N + 1\n",
        "    self.linear = defaultdict(int)\n",
        "    self.quadratic = defaultdict(int)\n",
        "    self.vartype = dimod.BINARY\n",
        "    self.offset = 0.0\n",
        "\n",
        "    if solver is None:\n",
        "      print(\"Setting the solver as QBsolv\")\n",
        "      self.solver = QBSolv()\n",
        "\n",
        "  def _energy_function_h_c(self):\n",
        "    for u in self.G.nodes():\n",
        "      self.linear[u] -= self.C\n",
        "\n",
        "  def _energy_function_h_b(self):\n",
        "    yidx_start = self.yidx_start\n",
        "    yidx_end = self.yidx_end\n",
        "\n",
        "    for i in range(yidx_start, yidx_end):\n",
        "      self.linear[i] += self.B * 0.5 * (i - self.N) * (i - self.N - 1)\n",
        "\n",
        "    for u,v in self.G.edges():\n",
        "      self.quadratic[(u, v)] -= self.B \n",
        "\n",
        "  def _energy_function_h_a(self):\n",
        "    yidx_start = self.yidx_start\n",
        "    yidx_end = self.yidx_end\n",
        "\n",
        "    self.offset += self.A\n",
        "    for i in range(yidx_start, yidx_end):\n",
        "      for j in range(yidx_start, yidx_end):\n",
        "        self.quadratic[(i, j)] += self.A\n",
        "    \n",
        "    for i in range(yidx_start, yidx_end):\n",
        "      self.linear[i] -= 2 * self.A\n",
        "    \n",
        "    for i in range(yidx_start, yidx_end):\n",
        "      for j in range(yidx_start, yidx_end):\n",
        "        self.quadratic[(i, j)] += self.A * (i-self.N) * (j-self.N)\n",
        "    \n",
        "    for u in self.G.nodes():\n",
        "      for v in self.G.nodes():\n",
        "        self.quadratic[(u, v)] += self.A\n",
        "      \n",
        "    for i in range(yidx_start, yidx_end):\n",
        "      for u in self.G.nodes():\n",
        "        self.quadratic[(i, u)] -= 2 * self.A * (i-self.N)\n",
        "    \n",
        "  def solve(self, num_repeats=1000):\n",
        "    bqm = dimod.BinaryQuadraticModel(self.linear, self.quadratic, self.offset, self.vartype)\n",
        "    return self.solver.sample(bqm, num_repeats=num_repeats)"
      ],
      "execution_count": 0,
      "outputs": []
    },
    {
      "cell_type": "code",
      "metadata": {
        "id": "9PmBxeVkyNcU",
        "colab_type": "code",
        "outputId": "c63e619e-b75b-4433-bc99-ee123fb297e6",
        "colab": {
          "base_uri": "https://localhost:8080/",
          "height": 387
        }
      },
      "source": [
        "## Define the graph\n",
        "G_three = nx.Graph()\n",
        "G_three.add_edges_from([(1,2),(1,3),(1,4), (2,3)])\n",
        "pos = nx.spring_layout(G_three)\n",
        "\n",
        "for u,v in G_three.edges():\n",
        "  print(u,v)\n",
        "\n",
        "nx.draw_networkx_nodes(G_three, node_list=G_three.nodes(), pos=pos, node_color='r')\n",
        "nx.draw_networkx_edges(G_three, pos)\n",
        "nx.draw_networkx_labels(G_three, pos, font_color='w', font_size=12)"
      ],
      "execution_count": 44,
      "outputs": [
        {
          "output_type": "stream",
          "text": [
            "1 2\n",
            "1 3\n",
            "1 4\n",
            "2 3\n"
          ],
          "name": "stdout"
        },
        {
          "output_type": "execute_result",
          "data": {
            "text/plain": [
              "{1: Text(0.07868941768603659, 0.139306805717981, '1'),\n",
              " 2: Text(0.004439414921075297, -0.7539226989295631, '2'),\n",
              " 3: Text(-0.6479964552450046, -0.3853841067884178, '3'),\n",
              " 4: Text(0.5648676226378926, 1.0, '4')}"
            ]
          },
          "metadata": {
            "tags": []
          },
          "execution_count": 44
        },
        {
          "output_type": "display_data",
          "data": {
            "image/png": "[encoded data removed]",
            "text/plain": [
              "<Figure size 432x288 with 1 Axes>"
            ]
          },
          "metadata": {
            "tags": []
          }
        }
      ]
    },
    {
      "cell_type": "code",
      "metadata": {
        "id": "W_l3idTJyYbL",
        "colab_type": "code",
        "outputId": "4866334b-674f-46d4-dc1d-93ee81106266",
        "colab": {
          "base_uri": "https://localhost:8080/",
          "height": 208
        }
      },
      "source": [
        "maximal_clique_solver_three = maximal_clique_bqm(G_three)\n",
        "maximal_clique_solver_three._energy_function_h_a()\n",
        "maximal_clique_solver_three._energy_function_h_b()\n",
        "maximal_clique_solver_three._energy_function_h_c()\n",
        "maximal_clique_solver_three.solve(num_repeats=10000)"
      ],
      "execution_count": 45,
      "outputs": [
        {
          "output_type": "stream",
          "text": [
            "Maximal degree of the graph is 3\n",
            "Setting A 5.0, B 1.0, C 1.0\n",
            "Setting the solver as QBsolv\n"
          ],
          "name": "stdout"
        },
        {
          "output_type": "execute_result",
          "data": {
            "text/plain": [
              "SampleSet(rec.array([([1, 1, 1, 0, 0, 1, 0], -3., 7974),\n",
              "           ([1, 0, 1, 0, 1, 0, 0], -2.,  409),\n",
              "           ([1, 1, 0, 1, 0, 1, 0], -2.,   61),\n",
              "           ([1, 0, 0, 1, 1, 0, 0], -2.,  344),\n",
              "           ([1, 1, 0, 0, 1, 0, 0], -2.,  429),\n",
              "           ([1, 0, 1, 1, 0, 1, 0], -2.,   60),\n",
              "           ([0, 1, 1, 0, 1, 0, 0], -2.,  730)],\n",
              "          dtype=[('sample', 'i1', (7,)), ('energy', '<f8'), ('num_occurrences', '<i8')]), [1, 2, 3, 4, 6, 7, 8], {}, 'BINARY')"
            ]
          },
          "metadata": {
            "tags": []
          },
          "execution_count": 45
        }
      ]
    },
    {
      "cell_type": "markdown",
      "metadata": {
        "id": "XRU_BqfbbwIV",
        "colab_type": "text"
      },
      "source": [
        "### TODO:\n",
        "* Example with $log(N)$ auxiliary spins instead of $N$ as shown in Lucas.\n",
        "* Example with DWave QPU\n",
        "* Solve all the above problems with Trotterization"
      ]
    },
    {
      "cell_type": "markdown",
      "metadata": {
        "id": "slZ84PK3JpTA",
        "colab_type": "text"
      },
      "source": [
        "## References\n",
        "\n",
        "[1] Lucas, Andrew. \"Ising formulations of many NP problems.\" Frontiers in Physics 2 (2014): 5.\n",
        "\n",
        "[2] DWave largest clique: https://docs.ocean.dwavesys.com/projects/dwave-networkx/en/latest/_modules/dwave_networkx/algorithms/clique.html"
      ]
    }
  ]
}