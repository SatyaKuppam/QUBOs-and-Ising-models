{
  "nbformat": 4,
  "nbformat_minor": 0,
  "metadata": {
    "colab": {
      "name": "partitioning.ipynb",
      "provenance": [],
      "collapsed_sections": [],
      "authorship_tag": "ABX9TyPXRqywB7/otpRXCIPQr+Wb",
      "include_colab_link": true
    },
    "kernelspec": {
      "name": "python3",
      "display_name": "Python 3"
    }
  },
  "cells": [
    {
      "cell_type": "markdown",
      "metadata": {
        "id": "view-in-github",
        "colab_type": "text"
      },
      "source": [
        "<a href=\"https://colab.research.google.com/github/SatyaKuppam/QUBOs-and-Ising-models/blob/master/partitioning.ipynb\" target=\"_parent\"><img src=\"https://colab.research.google.com/assets/colab-badge.svg\" alt=\"Open In Colab\"/></a>"
      ]
    },
    {
      "cell_type": "code",
      "metadata": {
        "id": "YWefW__tLAzH",
        "colab_type": "code",
        "colab": {
          "base_uri": "https://localhost:8080/",
          "height": 1000
        },
        "outputId": "f9d93744-18d1-4d08-e9d5-36d4b381b97c"
      },
      "source": [
        "!pip install dwave-ocean-sdk"
      ],
      "execution_count": 2,
      "outputs": [
        {
          "output_type": "stream",
          "text": [
            "Collecting dwave-ocean-sdk\n",
            "  Downloading https://files.pythonhosted.org/packages/7d/2c/2d242cf8f0f961680e634828493e07c075c68a85c1cd8dd783b1637a036a/dwave_ocean_sdk-2.1.1-py3-none-any.whl\n",
            "Collecting dwave-networkx==0.8.6\n",
            "\u001b[?25l  Downloading https://files.pythonhosted.org/packages/bf/87/9841ea5c76d1916259eb4286d92cdeb039b1bb09ce768ab74ba4d78681ec/dwave_networkx-0.8.6-py2.py3-none-any.whl (81kB)\n",
            "\u001b[K     |████████████████████████████████| 81kB 2.6MB/s \n",
            "\u001b[?25hCollecting dimod==0.9.1\n",
            "\u001b[?25l  Downloading https://files.pythonhosted.org/packages/03/b9/a339915f9965c929eeea327a19ac0684aeb4b746a7750d102d4eb3e51baf/dimod-0.9.1-cp36-cp36m-manylinux1_x86_64.whl (4.7MB)\n",
            "\u001b[K     |████████████████████████████████| 4.7MB 7.6MB/s \n",
            "\u001b[?25hCollecting dwave-qbsolv==0.3.0\n",
            "\u001b[?25l  Downloading https://files.pythonhosted.org/packages/eb/6a/2e2842b329b43f6e9d21f9ec8660392e7b476c710f5495a56bb297d05512/dwave_qbsolv-0.3.0-cp36-cp36m-manylinux1_x86_64.whl (204kB)\n",
            "\u001b[K     |████████████████████████████████| 204kB 20.8MB/s \n",
            "\u001b[?25hCollecting dwave-neal==0.5.4\n",
            "\u001b[?25l  Downloading https://files.pythonhosted.org/packages/c6/14/964a6a7aff39d97fbcb9ff82a4525a484d301468048a706be3dcc5be64ca/dwave_neal-0.5.4-cp36-cp36m-manylinux1_x86_64.whl (390kB)\n",
            "\u001b[K     |████████████████████████████████| 399kB 31.2MB/s \n",
            "\u001b[?25hCollecting pyqubo>=0.3.0\n",
            "  Downloading https://files.pythonhosted.org/packages/28/57/ba41de3b13ba23e981463aa1daa2ebe6bd9dcddb15571e4c5905463326c7/pyqubo-0.4.0.tar.gz\n",
            "Collecting dwave-cloud-client==0.7.2\n",
            "\u001b[?25l  Downloading https://files.pythonhosted.org/packages/e4/97/24f2e799e52e748c2a857e7eaa632e06e2cac5ad4d2d2b36f1f8c02638e4/dwave_cloud_client-0.7.2-py2.py3-none-any.whl (83kB)\n",
            "\u001b[K     |████████████████████████████████| 92kB 11.8MB/s \n",
            "\u001b[?25hCollecting dwave-tabu==0.2.2\n",
            "\u001b[?25l  Downloading https://files.pythonhosted.org/packages/ea/24/7bc4e733605f6c30281dcb2053e2de215abada9af004fa59800483f503f8/dwave_tabu-0.2.2-cp36-cp36m-manylinux1_x86_64.whl (784kB)\n",
            "\u001b[K     |████████████████████████████████| 788kB 40.5MB/s \n",
            "\u001b[?25hCollecting dwavebinarycsp==0.1.2\n",
            "  Downloading https://files.pythonhosted.org/packages/e6/f2/8422100bfa1a9cce5c0f3ca8b088a3d1f46582c0085adb2db09837dbc0f1/dwavebinarycsp-0.1.2-py3-none-any.whl\n",
            "Collecting penaltymodel==0.16.3\n",
            "  Downloading https://files.pythonhosted.org/packages/e7/1d/d114fe1c401719964fbf404c2c25113edb994df9f93c5773c19da406d192/penaltymodel-0.16.3-py3-none-any.whl\n",
            "Collecting dwave-hybrid==0.4.3\n",
            "\u001b[?25l  Downloading https://files.pythonhosted.org/packages/0b/6f/3b1ab64800bf739408b3e4d7f161ca64783456cb65637389ba6fad38a1f2/dwave_hybrid-0.4.3-py2.py3-none-any.whl (90kB)\n",
            "\u001b[K     |████████████████████████████████| 92kB 9.2MB/s \n",
            "\u001b[?25hCollecting dwave-inspector==0.1.5\n",
            "  Downloading https://files.pythonhosted.org/packages/a2/1c/69f75d2e1e043e20cd85f553ef65ea511dfd3ffa743102f40ad464417da2/dwave_inspector-0.1.5-py2.py3-none-any.whl\n",
            "Collecting penaltymodel-mip==0.2.3; platform_machine == \"x86_64\" or platform_machine == \"amd64\" or platform_machine == \"AMD64\"\n",
            "  Downloading https://files.pythonhosted.org/packages/7d/f5/fa3cc200983692675fdb07c57d6e28ee0b07a98e7ec0955f4d45ab7c4764/penaltymodel_mip-0.2.3-py3-none-any.whl\n",
            "Collecting penaltymodel-cache==0.4.1\n",
            "  Downloading https://files.pythonhosted.org/packages/02/c5/3cb25828105a8b5e4b181cb94d23593f44cfca71c4e1247a6a631dca3dd2/penaltymodel_cache-0.4.1-py3-none-any.whl\n",
            "Collecting penaltymodel-lp==0.1.3\n",
            "  Downloading https://files.pythonhosted.org/packages/e2/86/4c4c4de17c7e45f1958547da6a3fe866b6a6f48bf4785575bf6cc9ab91ca/penaltymodel_lp-0.1.3-py3-none-any.whl\n",
            "Collecting minorminer==0.1.9\n",
            "\u001b[?25l  Downloading https://files.pythonhosted.org/packages/ea/4b/339ce1e98a45cf99be04e83771742f5eb5ec7b50ab28a4e10a40ec0a4b71/minorminer-0.1.9-cp36-cp36m-manylinux1_x86_64.whl (2.3MB)\n",
            "\u001b[K     |████████████████████████████████| 2.3MB 45.2MB/s \n",
            "\u001b[?25hCollecting dwave-system==0.9.4\n",
            "\u001b[?25l  Downloading https://files.pythonhosted.org/packages/d0/52/3c91af203edb9e9323d980ea516ad2176aa14038e56d2ab235382af0dc06/dwave_system-0.9.4-py3-none-any.whl (86kB)\n",
            "\u001b[K     |████████████████████████████████| 92kB 11.6MB/s \n",
            "\u001b[?25hRequirement already satisfied: networkx<3.0,>=2.0 in /usr/local/lib/python3.6/dist-packages (from dwave-networkx==0.8.6->dwave-ocean-sdk) (2.4)\n",
            "Requirement already satisfied: decorator<5.0.0,>=4.1.0 in /usr/local/lib/python3.6/dist-packages (from dwave-networkx==0.8.6->dwave-ocean-sdk) (4.4.2)\n",
            "Requirement already satisfied: numpy<2.0.0,>=1.16.0 in /usr/local/lib/python3.6/dist-packages (from dimod==0.9.1->dwave-ocean-sdk) (1.18.4)\n",
            "Requirement already satisfied: six<2.0.0,>=1.10.0 in /usr/local/lib/python3.6/dist-packages (from dimod==0.9.1->dwave-ocean-sdk) (1.12.0)\n",
            "Requirement already satisfied: python-dateutil>=2.7 in /usr/local/lib/python3.6/dist-packages (from dwave-cloud-client==0.7.2->dwave-ocean-sdk) (2.8.1)\n",
            "Collecting plucky>=0.4.3\n",
            "  Downloading https://files.pythonhosted.org/packages/d8/70/7b43e7280284bafecb345f4edb3eea7042cf0d089c5d112920eda650fda5/plucky-0.4.3-py2.py3-none-any.whl\n",
            "Collecting homebase>=1.0\n",
            "  Downloading https://files.pythonhosted.org/packages/50/ad/e0080c35bd177682d5118a95bc2e7c1ac0541394b4ffce5e9554b6a077f9/homebase-1.0.1-py2.py3-none-any.whl\n",
            "Requirement already satisfied: click>=7.0 in /usr/local/lib/python3.6/dist-packages (from dwave-cloud-client==0.7.2->dwave-ocean-sdk) (7.1.2)\n",
            "Requirement already satisfied: requests[socks]>=2.18 in /usr/local/lib/python3.6/dist-packages (from dwave-cloud-client==0.7.2->dwave-ocean-sdk) (2.23.0)\n",
            "Requirement already satisfied: Flask>=1.1.1 in /usr/local/lib/python3.6/dist-packages (from dwave-inspector==0.1.5->dwave-ocean-sdk) (1.1.2)\n",
            "Collecting importlib-resources; python_version < \"3.7\"\n",
            "  Downloading https://files.pythonhosted.org/packages/7f/2d/88f166bcaadc09d9fdbf1c336ad118e01b7fe1155e15675e125be2ff1899/importlib_resources-1.5.0-py2.py3-none-any.whl\n",
            "Collecting ortools<8.0.0,>=6.6.4659\n",
            "\u001b[?25l  Downloading https://files.pythonhosted.org/packages/1c/d5/c4382df6b6b978971f11287552f5c0acc54ea7bf8ce70a9c77d8a06531b2/ortools-7.6.7691-cp36-cp36m-manylinux1_x86_64.whl (28.9MB)\n",
            "\u001b[K     |████████████████████████████████| 28.9MB 156kB/s \n",
            "\u001b[?25hRequirement already satisfied: scipy<2.0.0,>=0.15.0 in /usr/local/lib/python3.6/dist-packages (from penaltymodel-lp==0.1.3->dwave-ocean-sdk) (1.4.1)\n",
            "Requirement already satisfied: certifi>=2017.4.17 in /usr/local/lib/python3.6/dist-packages (from requests[socks]>=2.18->dwave-cloud-client==0.7.2->dwave-ocean-sdk) (2020.4.5.1)\n",
            "Requirement already satisfied: chardet<4,>=3.0.2 in /usr/local/lib/python3.6/dist-packages (from requests[socks]>=2.18->dwave-cloud-client==0.7.2->dwave-ocean-sdk) (3.0.4)\n",
            "Requirement already satisfied: idna<3,>=2.5 in /usr/local/lib/python3.6/dist-packages (from requests[socks]>=2.18->dwave-cloud-client==0.7.2->dwave-ocean-sdk) (2.9)\n",
            "Requirement already satisfied: urllib3!=1.25.0,!=1.25.1,<1.26,>=1.21.1 in /usr/local/lib/python3.6/dist-packages (from requests[socks]>=2.18->dwave-cloud-client==0.7.2->dwave-ocean-sdk) (1.24.3)\n",
            "Requirement already satisfied: PySocks!=1.5.7,>=1.5.6; extra == \"socks\" in /usr/local/lib/python3.6/dist-packages (from requests[socks]>=2.18->dwave-cloud-client==0.7.2->dwave-ocean-sdk) (1.7.1)\n",
            "Requirement already satisfied: Werkzeug>=0.15 in /usr/local/lib/python3.6/dist-packages (from Flask>=1.1.1->dwave-inspector==0.1.5->dwave-ocean-sdk) (1.0.1)\n",
            "Requirement already satisfied: itsdangerous>=0.24 in /usr/local/lib/python3.6/dist-packages (from Flask>=1.1.1->dwave-inspector==0.1.5->dwave-ocean-sdk) (1.1.0)\n",
            "Requirement already satisfied: Jinja2>=2.10.1 in /usr/local/lib/python3.6/dist-packages (from Flask>=1.1.1->dwave-inspector==0.1.5->dwave-ocean-sdk) (2.11.2)\n",
            "Requirement already satisfied: importlib-metadata; python_version < \"3.8\" in /usr/local/lib/python3.6/dist-packages (from importlib-resources; python_version < \"3.7\"->dwave-inspector==0.1.5->dwave-ocean-sdk) (1.6.0)\n",
            "Requirement already satisfied: zipp>=0.4; python_version < \"3.8\" in /usr/local/lib/python3.6/dist-packages (from importlib-resources; python_version < \"3.7\"->dwave-inspector==0.1.5->dwave-ocean-sdk) (3.1.0)\n",
            "Collecting protobuf>=3.11.2\n",
            "\u001b[?25l  Downloading https://files.pythonhosted.org/packages/57/02/5432412c162989260fab61fa65e0a490c1872739eb91a659896e4d554b26/protobuf-3.11.3-cp36-cp36m-manylinux1_x86_64.whl (1.3MB)\n",
            "\u001b[K     |████████████████████████████████| 1.3MB 45.3MB/s \n",
            "\u001b[?25hRequirement already satisfied: MarkupSafe>=0.23 in /usr/local/lib/python3.6/dist-packages (from Jinja2>=2.10.1->Flask>=1.1.1->dwave-inspector==0.1.5->dwave-ocean-sdk) (1.1.1)\n",
            "Requirement already satisfied: setuptools in /usr/local/lib/python3.6/dist-packages (from protobuf>=3.11.2->ortools<8.0.0,>=6.6.4659->penaltymodel-mip==0.2.3; platform_machine == \"x86_64\" or platform_machine == \"amd64\" or platform_machine == \"AMD64\"->dwave-ocean-sdk) (46.1.3)\n",
            "Building wheels for collected packages: pyqubo\n",
            "  Building wheel for pyqubo (setup.py) ... \u001b[?25l\u001b[?25hdone\n",
            "  Created wheel for pyqubo: filename=pyqubo-0.4.0-cp36-none-any.whl size=40712 sha256=d47ed29631463a4bb2cb89b4d24192ada4f6e4e56df3c3661d7d462a9a722de5\n",
            "  Stored in directory: /root/.cache/pip/wheels/77/b7/47/b989889699f788f4fecdc534bfddbb16df9a9a51f4e431b04d\n",
            "Successfully built pyqubo\n",
            "Installing collected packages: dimod, dwave-networkx, dwave-qbsolv, dwave-neal, pyqubo, plucky, homebase, dwave-cloud-client, dwave-tabu, penaltymodel, penaltymodel-cache, penaltymodel-lp, dwavebinarycsp, minorminer, dwave-system, dwave-hybrid, importlib-resources, dwave-inspector, protobuf, ortools, penaltymodel-mip, dwave-ocean-sdk\n",
            "  Found existing installation: protobuf 3.10.0\n",
            "    Uninstalling protobuf-3.10.0:\n",
            "      Successfully uninstalled protobuf-3.10.0\n",
            "Successfully installed dimod-0.9.1 dwave-cloud-client-0.7.2 dwave-hybrid-0.4.3 dwave-inspector-0.1.5 dwave-neal-0.5.4 dwave-networkx-0.8.6 dwave-ocean-sdk-2.1.1 dwave-qbsolv-0.3.0 dwave-system-0.9.4 dwave-tabu-0.2.2 dwavebinarycsp-0.1.2 homebase-1.0.1 importlib-resources-1.5.0 minorminer-0.1.9 ortools-7.6.7691 penaltymodel-0.16.3 penaltymodel-cache-0.4.1 penaltymodel-lp-0.1.3 penaltymodel-mip-0.2.3 plucky-0.4.3 protobuf-3.11.3 pyqubo-0.4.0\n"
          ],
          "name": "stdout"
        },
        {
          "output_type": "display_data",
          "data": {
            "application/vnd.colab-display-data+json": {
              "pip_warning": {
                "packages": [
                  "google"
                ]
              }
            }
          },
          "metadata": {
            "tags": []
          }
        }
      ]
    },
    {
      "cell_type": "code",
      "metadata": {
        "id": "r3tvLJ8CLO1B",
        "colab_type": "code",
        "colab": {}
      },
      "source": [
        "!dwave setup"
      ],
      "execution_count": 0,
      "outputs": []
    },
    {
      "cell_type": "code",
      "metadata": {
        "id": "mhp9x2emLzxa",
        "colab_type": "code",
        "outputId": "b9f77cc3-49af-43b1-cc58-907d1eac033b",
        "colab": {
          "base_uri": "https://localhost:8080/",
          "height": 416
        }
      },
      "source": [
        "!dwave ping"
      ],
      "execution_count": 0,
      "outputs": [
        {
          "output_type": "stream",
          "text": [
            "Using endpoint: https://cloud.dwavesys.com/sapi/\n",
            "Using solver: DW_2000Q_5\n",
            "Submitted problem ID: 7998a08e-b7bb-4784-828c-75e7b834a48a\n",
            "\n",
            "Wall clock time:\n",
            " * Solver definition fetch: 493.258 ms\n",
            " * Problem submit and results fetch: 1827.817 ms\n",
            " * Total: 2321.075 ms\n",
            "\n",
            "QPU timing:\n",
            " * anneal_time_per_run = 20 us\n",
            " * post_processing_overhead_time = 430 us\n",
            " * qpu_access_overhead_time = 1965 us\n",
            " * qpu_access_time = 9692 us\n",
            " * qpu_anneal_time_per_sample = 20 us\n",
            " * qpu_delay_time_per_sample = 21 us\n",
            " * qpu_programming_time = 9377 us\n",
            " * qpu_readout_time_per_sample = 274 us\n",
            " * qpu_sampling_time = 315 us\n",
            " * readout_time_per_run = 274 us\n",
            " * run_time_chip = 315 us\n",
            " * total_post_processing_time = 430 us\n",
            " * total_real_time = 9692 us\n"
          ],
          "name": "stdout"
        }
      ]
    },
    {
      "cell_type": "code",
      "metadata": {
        "id": "ua8442DfJ-vw",
        "colab_type": "code",
        "colab": {}
      },
      "source": [
        "import networkx as nx\n",
        "import dwave_networkx as dnx\n",
        "import matplotlib\n",
        "import matplotlib.pyplot as plt\n",
        "%matplotlib inline\n",
        "\n",
        "from dwave.system.samplers import DWaveSampler\n",
        "from dwave.system.composites import EmbeddingComposite\n",
        "from dwave.cloud import Client\n",
        "from dwave_qbsolv import QBSolv\n",
        "from collections import defaultdict\n",
        "\n",
        "import networkx as nx\n",
        "import dwave_networkx as dnx\n",
        "import neal"
      ],
      "execution_count": 0,
      "outputs": []
    },
    {
      "cell_type": "code",
      "metadata": {
        "id": "VY_2zn9BMBcX",
        "colab_type": "code",
        "outputId": "d14a418e-cf18-42ae-f141-5bc9baff9378",
        "colab": {
          "base_uri": "https://localhost:8080/",
          "height": 34
        }
      },
      "source": [
        "with Client.from_config() as client:\n",
        "  print(client.get_solvers())"
      ],
      "execution_count": 0,
      "outputs": [
        {
          "output_type": "stream",
          "text": [
            "[StructuredSolver(id='DW_2000Q_5'), UnstructuredSolver(id='hybrid_v1')]\n"
          ],
          "name": "stdout"
        }
      ]
    },
    {
      "cell_type": "markdown",
      "metadata": {
        "id": "yZVOsQhTIhKM",
        "colab_type": "text"
      },
      "source": [
        "## 1. Number Partitioning\n",
        "\n",
        "* This problem is know to be $NP$-complete.\n",
        "\n",
        "* The ising model represenatation we consider for number partitioning[1] is $$H = A(\\sum_{i=1}^{N}n_is_i)^2$$\n",
        "* The corresponding QUBO representation is: $$Q = A(\\sum_{i=1}^{N}n_i^2q_i-\\sum_{i=1}^{N}\\sum_{j=1}^{N}n_in_jq_i+2\\sum_{1\\leq i<j\\leq N}n_in_jq_iq_j)$$\n",
        "\n",
        "* Notice that in the QUBO representation we have disregarded the terms which are independent of $q_i$. Hence the minimum energy will be lower than 0.\n",
        "\n",
        "* For simplicity of our experimentation we use $A=1$"
      ]
    },
    {
      "cell_type": "markdown",
      "metadata": {
        "id": "P6A-ZZ3dQg7N",
        "colab_type": "text"
      },
      "source": [
        "Lets take the set of numbers of $[1,2,3,4]$ to be split into two sets.\n",
        "The partition that gives us the least energy is $[1,4]$ and $[2,3]$.\n"
      ]
    },
    {
      "cell_type": "code",
      "metadata": {
        "id": "uR9u22ZpVoy3",
        "colab_type": "code",
        "colab": {}
      },
      "source": [
        "def number_partition(numbers, sampler=None, num_repeats=1000):\n",
        "  Q = defaultdict(int)\n",
        "\n",
        "  for i in numbers:\n",
        "    Q[(i,i)] += i ** 2\n",
        "\n",
        "  for i in numbers:\n",
        "    for j in numbers:\n",
        "      Q[(i,i)] -= i * j\n",
        "\n",
        "  for idx, number in enumerate(numbers):\n",
        "    for jdx in range(idx+1,len(numbers)):\n",
        "      Q[(number,numbers[jdx])] += 2 * number * numbers[jdx]\n",
        "\n",
        "  return sampler.sample_qubo(Q, num_repeats=num_repeats)"
      ],
      "execution_count": 0,
      "outputs": []
    },
    {
      "cell_type": "code",
      "metadata": {
        "id": "ld3Hpayd79B6",
        "colab_type": "code",
        "colab": {
          "base_uri": "https://localhost:8080/",
          "height": 121
        },
        "outputId": "8d3adc1a-9bfa-4975-f6c1-5a32df452512"
      },
      "source": [
        "response = number_partition(range(1,5), sampler=QBSolv())\n",
        "print(response)\n",
        "print(\"samples=\" + str(list(response.samples())))\n",
        "print(\"energies=\" + str(list(response.data_vectors['energy'])))"
      ],
      "execution_count": 55,
      "outputs": [
        {
          "output_type": "stream",
          "text": [
            "   1  2  3  4 energy num_oc.\n",
            "0  0  1  1  0  -25.0     472\n",
            "1  1  0  0  1  -25.0     529\n",
            "['BINARY', 2 rows, 1001 samples, 4 variables]\n",
            "samples=[{1: 0, 2: 1, 3: 1, 4: 0}, {1: 1, 2: 0, 3: 0, 4: 1}]\n",
            "energies=[-25.0, -25.0]\n"
          ],
          "name": "stdout"
        }
      ]
    },
    {
      "cell_type": "markdown",
      "metadata": {
        "id": "degCJfaTQpLH",
        "colab_type": "text"
      },
      "source": [
        "In the above example we could partition the sets into two whose sum of constituent elements in the same. Sometime its not possible to do so.\n",
        "For example the set $[1,2,3,4,5]$. The partitions whose sum differ by atmost 1 are:\n",
        "\n",
        "* [1,2,5] and [3,4]\n",
        "* [1,2,4] and [3,5]\n",
        "* [1,3,4] and [2,5]"
      ]
    },
    {
      "cell_type": "code",
      "metadata": {
        "id": "AqNsTHGxQe_M",
        "colab_type": "code",
        "outputId": "5c71d828-6343-4e19-a770-b774b230690b",
        "colab": {
          "base_uri": "https://localhost:8080/",
          "height": 52
        }
      },
      "source": [
        "response = number_partition(range(1,6), sampler=QBSolv())\n",
        "print(\"samples=\" + str(list(response.samples())))\n",
        "print(\"energies=\" + str(list(response.data_vectors['energy'])))"
      ],
      "execution_count": 44,
      "outputs": [
        {
          "output_type": "stream",
          "text": [
            "samples=[{1: 0, 2: 0, 3: 1, 4: 0, 5: 1}, {1: 0, 2: 1, 3: 0, 4: 0, 5: 1}, {1: 1, 2: 0, 3: 1, 4: 1, 5: 0}, {1: 0, 2: 0, 3: 1, 4: 1, 5: 0}, {1: 1, 2: 1, 3: 0, 4: 0, 5: 1}, {1: 1, 2: 1, 3: 0, 4: 1, 5: 0}]\n",
            "energies=[-56.0, -56.0, -56.0, -56.0, -56.0, -56.0]\n"
          ],
          "name": "stdout"
        }
      ]
    },
    {
      "cell_type": "markdown",
      "metadata": {
        "id": "4SFt16fDJ_uz",
        "colab_type": "text"
      },
      "source": [
        "## 2. Graph Partitioning\n",
        "\n",
        "* This problem is a known $NP$-hard problem.\n",
        "\n",
        "* Given a graph with $N=|V|$ edges partition it into two sets of equal size (i.e $\\frac{N}{2}$) such that, the number of edges between the two is minimized.\n",
        "\n",
        "* From Lucas[1] the ising formulation for this energy function is: \n",
        "$$H_A = A(\\sum_{i=1}^{N}s_i)^2$$ and $$H_B = B \\sum_{(u,v)\\in E} \\frac{1-s_us_v}{2}$$ and $$H = H_A + H_B$$\n",
        "\n",
        "* The corresponding QUBO formulation for this problem is: $$Q_A = A[(1-N)\\sum_{i=1}^{N}q_i + 2 \\sum_{1\\leq i <j\\leq N} q_iq_j]$$ and $$Q_B = B \\sum_{(u,v)\\in E}(q_u+q_v-2q_uq_v)$$ and $$Q = Q_A + Q_B$$\n",
        "\n",
        "\n",
        "* From Lucas[1] we also get the relationship between $A$ and $B$: $$\\frac{A}{B}\\geq \\frac{min(2\\Delta,N)}{8}$$"
      ]
    },
    {
      "cell_type": "code",
      "metadata": {
        "id": "4Vo-Huw05C2S",
        "colab_type": "code",
        "colab": {
          "base_uri": "https://localhost:8080/",
          "height": 317
        },
        "outputId": "f9b9b085-9dbc-4ebf-c62c-6aa9b7e7541f"
      },
      "source": [
        "## Define the graph\n",
        "G = nx.Graph()\n",
        "G.add_edges_from([(1,3),(3,2),(2,4)])\n",
        "pos = nx.spring_layout(G)\n",
        "\n",
        "nx.draw_networkx_nodes(G, node_list=G.nodes(), pos=pos, node_color='r')\n",
        "nx.draw_networkx_edges(G, pos)\n",
        "nx.draw_networkx_labels(G, pos, font_color='w', font_size=12)\n",
        "\n",
        "def general_graph_partitioning(G, sampler=None, num_repeats=1000):\n",
        "  Q = defaultdict(int)\n",
        "\n",
        "  ## TODO: pass A and B as arguments and raise error when the \n",
        "  ##       condition is not satisfied\n",
        "  A, B = 10, 1\n",
        "  N = len(G.nodes())\n",
        "\n",
        "  ## For Q_A\n",
        "  for node in G.nodes():\n",
        "    Q[(node, node)] += A * (1-N)\n",
        "\n",
        "  for node_u in G.nodes():\n",
        "    for node_v in G.nodes():\n",
        "      Q[(node_u, node_v)] += 2 * A\n",
        "     \n",
        "  ## For Q_B\n",
        "  for u,v in G.edges():\n",
        "    Q[(u,u)] += B\n",
        "    Q[(v,v)] += B\n",
        "    Q[(u,v)] -= 2 * B\n",
        "\n",
        "  return sampler.sample_qubo(Q, num_repeats=num_repeats)\n",
        "\n",
        "print(general_graph_partitioning(G, sampler=QBSolv()))"
      ],
      "execution_count": 59,
      "outputs": [
        {
          "output_type": "stream",
          "text": [
            "   1  2  3  4 energy num_oc.\n",
            "0  0  0  0  1   -9.0     500\n",
            "1  1  0  0  0   -9.0     501\n",
            "['BINARY', 2 rows, 1001 samples, 4 variables]\n"
          ],
          "name": "stdout"
        },
        {
          "output_type": "display_data",
          "data": {
            "image/png": "[encoded data removed]",
            "text/plain": [
              "<Figure size 432x288 with 1 Axes>"
            ]
          },
          "metadata": {
            "tags": []
          }
        }
      ]
    },
    {
      "cell_type": "code",
      "metadata": {
        "id": "ULpoVfoe-V8U",
        "colab_type": "code",
        "colab": {
          "base_uri": "https://localhost:8080/",
          "height": 34
        },
        "outputId": "12748d5d-fd9a-4256-950f-e103ab39eb8c"
      },
      "source": [
        "QBSolv().sample_qubo??"
      ],
      "execution_count": 54,
      "outputs": [
        {
          "output_type": "stream",
          "text": [
            "Object `sample_qubo` not found.\n"
          ],
          "name": "stdout"
        }
      ]
    },
    {
      "cell_type": "code",
      "metadata": {
        "id": "kXRl6Qu8dVt7",
        "colab_type": "code",
        "colab": {
          "base_uri": "https://localhost:8080/",
          "height": 370
        },
        "outputId": "0f4a24ac-e63c-4f2b-fdd3-32b4281e4526"
      },
      "source": [
        "G = nx.Graph()\n",
        "G.add_edges_from([(1, 2), (1, 3), (2, 3), (3, 4), (3, 5), (4, 5), (4, 6), (5, 6), (6, 7)])\n",
        "pos = nx.spring_layout(G)\n",
        "\n",
        "S = G.subgraph([1,2])\n",
        "nx.draw_networkx_nodes(S, nodelist=S.nodes(), pos=pos, node_color='b')\n",
        "nx.draw_networkx_labels(G, pos, font_color='w', font_size=12)"
      ],
      "execution_count": 35,
      "outputs": [
        {
          "output_type": "execute_result",
          "data": {
            "text/plain": [
              "{1: Text(0.25045051376785615, 0.8201392420124533, '1'),\n",
              " 2: Text(0.5479614081969388, 0.6623561476589058, '2'),\n",
              " 3: Text(0.17592324823704683, 0.32157934672129374, '3'),\n",
              " 4: Text(0.062312206144534484, -0.1994255592379353, '4'),\n",
              " 5: Text(-0.19803374701083132, -0.059419325939593495, '5'),\n",
              " 6: Text(-0.2946132945795077, -0.5452298512151229, '6'),\n",
              " 7: Text(-0.5440003347560374, -1.0, '7')}"
            ]
          },
          "metadata": {
            "tags": []
          },
          "execution_count": 35
        },
        {
          "output_type": "display_data",
          "data": {
            "image/png": "[encoded data removed]",
            "text/plain": [
              "<Figure size 432x288 with 1 Axes>"
            ]
          },
          "metadata": {
            "tags": []
          }
        }
      ]
    },
    {
      "cell_type": "code",
      "metadata": {
        "id": "ibhPggFotDv0",
        "colab_type": "code",
        "colab": {
          "base_uri": "https://localhost:8080/",
          "height": 248
        },
        "outputId": "c304c25a-1ea9-472a-b563-8eb6af4679c3"
      },
      "source": [
        "import matplotlib.pyplot as plt\n",
        "\n",
        "import networkx as nx\n",
        "\n",
        "G=nx.cubical_graph()\n",
        "pos=nx.spring_layout(G) # positions for all nodes\n",
        "\n",
        "# nodes\n",
        "nx.draw_networkx_nodes(G,pos,\n",
        "                       nodelist=[0,1,2,3],\n",
        "                       node_color='r',\n",
        "                       node_size=500,\n",
        "                   alpha=0.8)\n",
        "nx.draw_networkx_nodes(G,pos,\n",
        "                       nodelist=[4,5,6,7],\n",
        "                       node_color='b',\n",
        "                       node_size=500,\n",
        "                   alpha=0.8)\n",
        "\n",
        "# edges\n",
        "nx.draw_networkx_edges(G,pos,width=1.0,alpha=0.5)\n",
        "nx.draw_networkx_edges(G,pos,\n",
        "                       edgelist=[(0,1),(1,2),(2,3),(3,0)],\n",
        "                       width=8,alpha=0.5,edge_color='r')\n",
        "nx.draw_networkx_edges(G,pos,\n",
        "                       edgelist=[(4,5),(5,6),(6,7),(7,4)],\n",
        "                       width=8,alpha=0.5,edge_color='b')\n",
        "\n",
        "\n",
        "# some math labels\n",
        "labels={}\n",
        "labels[0]=r'$a$'\n",
        "labels[1]=r'$b$'\n",
        "labels[2]=r'$c$'\n",
        "labels[3]=r'$d$'\n",
        "labels[4]=r'$\\alpha$'\n",
        "labels[5]=r'$\\beta$'\n",
        "labels[6]=r'$\\gamma$'\n",
        "labels[7]=r'$\\delta$'\n",
        "nx.draw_networkx_labels(G,pos,labels,font_size=16)\n",
        "\n",
        "plt.axis('off')\n",
        "#plt.savefig(\"labels_and_colors.png\") # save as png\n",
        "plt.show() # display"
      ],
      "execution_count": 28,
      "outputs": [
        {
          "output_type": "display_data",
          "data": {
            "image/png": "[encoded data removed]",
            "text/plain": [
              "<Figure size 432x288 with 1 Axes>"
            ]
          },
          "metadata": {
            "tags": []
          }
        }
      ]
    },
    {
      "cell_type": "markdown",
      "metadata": {
        "id": "slZ84PK3JpTA",
        "colab_type": "text"
      },
      "source": [
        "## References\n",
        "\n",
        "[1] Lucas, Andrew. \"Ising formulations of many NP problems.\" Frontiers in Physics 2 (2014): 5.\n"
      ]
    }
  ]
}